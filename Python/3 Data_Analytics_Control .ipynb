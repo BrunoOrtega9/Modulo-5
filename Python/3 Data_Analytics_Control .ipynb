{
 "cells": [
  {
   "cell_type": "markdown",
   "metadata": {
    "id": "s20kvVZjLbtz"
   },
   "source": [
    "# Data Analytics"
   ]
  },
  {
   "cell_type": "markdown",
   "metadata": {
    "id": "bdszj6sbLbt-"
   },
   "source": [
    "Instrucciones de Control\n",
    "* if/else\n",
    "* if/elif.. else\n",
    "* while\n",
    "* For\n"
   ]
  },
  {
   "cell_type": "code",
   "execution_count": 5,
   "metadata": {
    "colab": {
     "base_uri": "https://localhost:8080/",
     "height": 870
    },
    "executionInfo": {
     "elapsed": 198,
     "status": "ok",
     "timestamp": 1647999850758,
     "user": {
      "displayName": "Arturo TELLEZ CORTES",
      "photoUrl": "https://lh3.googleusercontent.com/a-/AOh14GjTZfNAxdNsV2LwG_Bi4n9vU_lqo5TyUXYzn8cdkA=s64",
      "userId": "09587210196324432870"
     },
     "user_tz": 360
    },
    "id": "44u2Ad-5Lbt_",
    "outputId": "8128ac55-93c8-4d98-e343-5f75384539a7"
   },
   "outputs": [
    {
     "data": {
      "text/html": [
       "<div>\n",
       "<style scoped>\n",
       "    .dataframe tbody tr th:only-of-type {\n",
       "        vertical-align: middle;\n",
       "    }\n",
       "\n",
       "    .dataframe tbody tr th {\n",
       "        vertical-align: top;\n",
       "    }\n",
       "\n",
       "    .dataframe thead th {\n",
       "        text-align: right;\n",
       "    }\n",
       "</style>\n",
       "<table border=\"1\" class=\"dataframe\">\n",
       "  <thead>\n",
       "    <tr style=\"text-align: right;\">\n",
       "      <th></th>\n",
       "      <th>Year</th>\n",
       "      <th>Product line</th>\n",
       "      <th>Product type</th>\n",
       "      <th>Product</th>\n",
       "      <th>Order method type</th>\n",
       "      <th>Retailer country</th>\n",
       "      <th>Revenue</th>\n",
       "      <th>Planned revenue</th>\n",
       "      <th>Product cost</th>\n",
       "      <th>Quantity</th>\n",
       "      <th>Unit cost</th>\n",
       "      <th>Unit price</th>\n",
       "      <th>Gross profit</th>\n",
       "      <th>Unit sale price</th>\n",
       "    </tr>\n",
       "  </thead>\n",
       "  <tbody>\n",
       "    <tr>\n",
       "      <th>0</th>\n",
       "      <td>2004</td>\n",
       "      <td>Golf Equipment</td>\n",
       "      <td>Golf Accessories</td>\n",
       "      <td>Course Pro Golf and Tee Set</td>\n",
       "      <td>Sales visit</td>\n",
       "      <td>United States</td>\n",
       "      <td>5819.70</td>\n",
       "      <td>6586.16</td>\n",
       "      <td>1733.2</td>\n",
       "      <td>619.0</td>\n",
       "      <td>2.8</td>\n",
       "      <td>10.64</td>\n",
       "      <td>4086.50</td>\n",
       "      <td>5.105</td>\n",
       "    </tr>\n",
       "    <tr>\n",
       "      <th>1</th>\n",
       "      <td>2004</td>\n",
       "      <td>Golf Equipment</td>\n",
       "      <td>Golf Accessories</td>\n",
       "      <td>Course Pro Golf and Tee Set</td>\n",
       "      <td>Sales visit</td>\n",
       "      <td>United Kingdom</td>\n",
       "      <td>NaN</td>\n",
       "      <td>NaN</td>\n",
       "      <td>NaN</td>\n",
       "      <td>NaN</td>\n",
       "      <td>NaN</td>\n",
       "      <td>NaN</td>\n",
       "      <td>NaN</td>\n",
       "      <td>NaN</td>\n",
       "    </tr>\n",
       "    <tr>\n",
       "      <th>2</th>\n",
       "      <td>2005</td>\n",
       "      <td>Golf Equipment</td>\n",
       "      <td>Golf Accessories</td>\n",
       "      <td>Course Pro Golf and Tee Set</td>\n",
       "      <td>Sales visit</td>\n",
       "      <td>United States</td>\n",
       "      <td>10904.28</td>\n",
       "      <td>11363.52</td>\n",
       "      <td>2990.4</td>\n",
       "      <td>1068.0</td>\n",
       "      <td>2.8</td>\n",
       "      <td>10.64</td>\n",
       "      <td>7913.88</td>\n",
       "      <td>10.210</td>\n",
       "    </tr>\n",
       "    <tr>\n",
       "      <th>3</th>\n",
       "      <td>2005</td>\n",
       "      <td>Golf Equipment</td>\n",
       "      <td>Golf Accessories</td>\n",
       "      <td>Course Pro Golf and Tee Set</td>\n",
       "      <td>Sales visit</td>\n",
       "      <td>United Kingdom</td>\n",
       "      <td>27987.84</td>\n",
       "      <td>28855.68</td>\n",
       "      <td>7593.6</td>\n",
       "      <td>2712.0</td>\n",
       "      <td>2.8</td>\n",
       "      <td>10.64</td>\n",
       "      <td>20394.24</td>\n",
       "      <td>10.320</td>\n",
       "    </tr>\n",
       "    <tr>\n",
       "      <th>4</th>\n",
       "      <td>2006</td>\n",
       "      <td>Golf Equipment</td>\n",
       "      <td>Golf Accessories</td>\n",
       "      <td>Course Pro Golf and Tee Set</td>\n",
       "      <td>Sales visit</td>\n",
       "      <td>United States</td>\n",
       "      <td>NaN</td>\n",
       "      <td>NaN</td>\n",
       "      <td>NaN</td>\n",
       "      <td>NaN</td>\n",
       "      <td>NaN</td>\n",
       "      <td>NaN</td>\n",
       "      <td>NaN</td>\n",
       "      <td>NaN</td>\n",
       "    </tr>\n",
       "    <tr>\n",
       "      <th>...</th>\n",
       "      <td>...</td>\n",
       "      <td>...</td>\n",
       "      <td>...</td>\n",
       "      <td>...</td>\n",
       "      <td>...</td>\n",
       "      <td>...</td>\n",
       "      <td>...</td>\n",
       "      <td>...</td>\n",
       "      <td>...</td>\n",
       "      <td>...</td>\n",
       "      <td>...</td>\n",
       "      <td>...</td>\n",
       "      <td>...</td>\n",
       "      <td>...</td>\n",
       "    </tr>\n",
       "    <tr>\n",
       "      <th>17818</th>\n",
       "      <td>2006</td>\n",
       "      <td>Camping Equipment</td>\n",
       "      <td>Sleeping Bags</td>\n",
       "      <td>Hibernator</td>\n",
       "      <td>Mail</td>\n",
       "      <td>United Kingdom</td>\n",
       "      <td>NaN</td>\n",
       "      <td>NaN</td>\n",
       "      <td>NaN</td>\n",
       "      <td>NaN</td>\n",
       "      <td>NaN</td>\n",
       "      <td>NaN</td>\n",
       "      <td>NaN</td>\n",
       "      <td>NaN</td>\n",
       "    </tr>\n",
       "    <tr>\n",
       "      <th>17819</th>\n",
       "      <td>2006</td>\n",
       "      <td>Camping Equipment</td>\n",
       "      <td>Sleeping Bags</td>\n",
       "      <td>Hibernator</td>\n",
       "      <td>E-mail</td>\n",
       "      <td>United States</td>\n",
       "      <td>NaN</td>\n",
       "      <td>NaN</td>\n",
       "      <td>NaN</td>\n",
       "      <td>NaN</td>\n",
       "      <td>NaN</td>\n",
       "      <td>NaN</td>\n",
       "      <td>NaN</td>\n",
       "      <td>NaN</td>\n",
       "    </tr>\n",
       "    <tr>\n",
       "      <th>17820</th>\n",
       "      <td>2006</td>\n",
       "      <td>Camping Equipment</td>\n",
       "      <td>Sleeping Bags</td>\n",
       "      <td>Hibernator</td>\n",
       "      <td>E-mail</td>\n",
       "      <td>United Kingdom</td>\n",
       "      <td>NaN</td>\n",
       "      <td>NaN</td>\n",
       "      <td>NaN</td>\n",
       "      <td>NaN</td>\n",
       "      <td>NaN</td>\n",
       "      <td>NaN</td>\n",
       "      <td>NaN</td>\n",
       "      <td>NaN</td>\n",
       "    </tr>\n",
       "    <tr>\n",
       "      <th>17821</th>\n",
       "      <td>2006</td>\n",
       "      <td>Camping Equipment</td>\n",
       "      <td>Sleeping Bags</td>\n",
       "      <td>Hibernator</td>\n",
       "      <td>Fax</td>\n",
       "      <td>United States</td>\n",
       "      <td>NaN</td>\n",
       "      <td>NaN</td>\n",
       "      <td>NaN</td>\n",
       "      <td>NaN</td>\n",
       "      <td>NaN</td>\n",
       "      <td>NaN</td>\n",
       "      <td>NaN</td>\n",
       "      <td>NaN</td>\n",
       "    </tr>\n",
       "    <tr>\n",
       "      <th>17822</th>\n",
       "      <td>2006</td>\n",
       "      <td>Camping Equipment</td>\n",
       "      <td>Sleeping Bags</td>\n",
       "      <td>Hibernator</td>\n",
       "      <td>Fax</td>\n",
       "      <td>United Kingdom</td>\n",
       "      <td>NaN</td>\n",
       "      <td>NaN</td>\n",
       "      <td>NaN</td>\n",
       "      <td>NaN</td>\n",
       "      <td>NaN</td>\n",
       "      <td>NaN</td>\n",
       "      <td>NaN</td>\n",
       "      <td>NaN</td>\n",
       "    </tr>\n",
       "  </tbody>\n",
       "</table>\n",
       "<p>17823 rows × 14 columns</p>\n",
       "</div>"
      ],
      "text/plain": [
       "       Year       Product line      Product type                      Product  \\\n",
       "0      2004     Golf Equipment  Golf Accessories  Course Pro Golf and Tee Set   \n",
       "1      2004     Golf Equipment  Golf Accessories  Course Pro Golf and Tee Set   \n",
       "2      2005     Golf Equipment  Golf Accessories  Course Pro Golf and Tee Set   \n",
       "3      2005     Golf Equipment  Golf Accessories  Course Pro Golf and Tee Set   \n",
       "4      2006     Golf Equipment  Golf Accessories  Course Pro Golf and Tee Set   \n",
       "...     ...                ...               ...                          ...   \n",
       "17818  2006  Camping Equipment     Sleeping Bags                   Hibernator   \n",
       "17819  2006  Camping Equipment     Sleeping Bags                   Hibernator   \n",
       "17820  2006  Camping Equipment     Sleeping Bags                   Hibernator   \n",
       "17821  2006  Camping Equipment     Sleeping Bags                   Hibernator   \n",
       "17822  2006  Camping Equipment     Sleeping Bags                   Hibernator   \n",
       "\n",
       "      Order method type Retailer country   Revenue  Planned revenue  \\\n",
       "0           Sales visit    United States   5819.70          6586.16   \n",
       "1           Sales visit   United Kingdom       NaN              NaN   \n",
       "2           Sales visit    United States  10904.28         11363.52   \n",
       "3           Sales visit   United Kingdom  27987.84         28855.68   \n",
       "4           Sales visit    United States       NaN              NaN   \n",
       "...                 ...              ...       ...              ...   \n",
       "17818              Mail   United Kingdom       NaN              NaN   \n",
       "17819            E-mail    United States       NaN              NaN   \n",
       "17820            E-mail   United Kingdom       NaN              NaN   \n",
       "17821               Fax    United States       NaN              NaN   \n",
       "17822               Fax   United Kingdom       NaN              NaN   \n",
       "\n",
       "       Product cost  Quantity  Unit cost  Unit price  Gross profit  \\\n",
       "0            1733.2     619.0        2.8       10.64       4086.50   \n",
       "1               NaN       NaN        NaN         NaN           NaN   \n",
       "2            2990.4    1068.0        2.8       10.64       7913.88   \n",
       "3            7593.6    2712.0        2.8       10.64      20394.24   \n",
       "4               NaN       NaN        NaN         NaN           NaN   \n",
       "...             ...       ...        ...         ...           ...   \n",
       "17818           NaN       NaN        NaN         NaN           NaN   \n",
       "17819           NaN       NaN        NaN         NaN           NaN   \n",
       "17820           NaN       NaN        NaN         NaN           NaN   \n",
       "17821           NaN       NaN        NaN         NaN           NaN   \n",
       "17822           NaN       NaN        NaN         NaN           NaN   \n",
       "\n",
       "       Unit sale price  \n",
       "0                5.105  \n",
       "1                  NaN  \n",
       "2               10.210  \n",
       "3               10.320  \n",
       "4                  NaN  \n",
       "...                ...  \n",
       "17818              NaN  \n",
       "17819              NaN  \n",
       "17820              NaN  \n",
       "17821              NaN  \n",
       "17822              NaN  \n",
       "\n",
       "[17823 rows x 14 columns]"
      ]
     },
     "execution_count": 5,
     "metadata": {},
     "output_type": "execute_result"
    }
   ],
   "source": [
    "import pandas as pd\n",
    "\n",
    "data = pd.read_csv(\"sales.csv\")\n",
    "data"
   ]
  },
  {
   "cell_type": "code",
   "execution_count": 2,
   "metadata": {
    "colab": {
     "base_uri": "https://localhost:8080/"
    },
    "executionInfo": {
     "elapsed": 19063,
     "status": "ok",
     "timestamp": 1647999819856,
     "user": {
      "displayName": "Arturo TELLEZ CORTES",
      "photoUrl": "https://lh3.googleusercontent.com/a-/AOh14GjTZfNAxdNsV2LwG_Bi4n9vU_lqo5TyUXYzn8cdkA=s64",
      "userId": "09587210196324432870"
     },
     "user_tz": 360
    },
    "id": "YyO80jT3cT7Q",
    "outputId": "8d91f147-8b8e-48fe-b1cb-31604a638936"
   },
   "outputs": [
    {
     "name": "stdout",
     "output_type": "stream",
     "text": [
      "Mounted at /content/drive\n"
     ]
    }
   ],
   "source": [
    "from google.colab import drive\n",
    "drive.mount('/content/drive')"
   ]
  },
  {
   "cell_type": "code",
   "execution_count": 4,
   "metadata": {
    "colab": {
     "base_uri": "https://localhost:8080/",
     "height": 565
    },
    "executionInfo": {
     "elapsed": 198,
     "status": "ok",
     "timestamp": 1647999869934,
     "user": {
      "displayName": "Arturo TELLEZ CORTES",
      "photoUrl": "https://lh3.googleusercontent.com/a-/AOh14GjTZfNAxdNsV2LwG_Bi4n9vU_lqo5TyUXYzn8cdkA=s64",
      "userId": "09587210196324432870"
     },
     "user_tz": 360
    },
    "id": "j-CApKPMLbuD",
    "outputId": "e4e9a3cc-491f-4ee4-dcc3-a380211d00d4"
   },
   "outputs": [
    {
     "data": {
      "text/html": [
       "\n",
       "  <div id=\"df-2790eeba-2eb2-4a5d-99fc-cfe5b83ed6de\">\n",
       "    <div class=\"colab-df-container\">\n",
       "      <div>\n",
       "<style scoped>\n",
       "    .dataframe tbody tr th:only-of-type {\n",
       "        vertical-align: middle;\n",
       "    }\n",
       "\n",
       "    .dataframe tbody tr th {\n",
       "        vertical-align: top;\n",
       "    }\n",
       "\n",
       "    .dataframe thead th {\n",
       "        text-align: right;\n",
       "    }\n",
       "</style>\n",
       "<table border=\"1\" class=\"dataframe\">\n",
       "  <thead>\n",
       "    <tr style=\"text-align: right;\">\n",
       "      <th></th>\n",
       "      <th>Year</th>\n",
       "      <th>Product line</th>\n",
       "      <th>Product type</th>\n",
       "      <th>Product</th>\n",
       "      <th>Order method type</th>\n",
       "      <th>Retailer country</th>\n",
       "      <th>Revenue</th>\n",
       "      <th>Planned revenue</th>\n",
       "      <th>Product cost</th>\n",
       "      <th>Quantity</th>\n",
       "      <th>Unit cost</th>\n",
       "      <th>Unit price</th>\n",
       "      <th>Gross profit</th>\n",
       "      <th>Unit sale price</th>\n",
       "    </tr>\n",
       "  </thead>\n",
       "  <tbody>\n",
       "    <tr>\n",
       "      <th>0</th>\n",
       "      <td>2004</td>\n",
       "      <td>Golf Equipment</td>\n",
       "      <td>Golf Accessories</td>\n",
       "      <td>Course Pro Golf and Tee Set</td>\n",
       "      <td>Sales visit</td>\n",
       "      <td>United States</td>\n",
       "      <td>5819.70</td>\n",
       "      <td>6586.16</td>\n",
       "      <td>1733.2</td>\n",
       "      <td>619.0</td>\n",
       "      <td>2.8</td>\n",
       "      <td>10.64</td>\n",
       "      <td>4086.50</td>\n",
       "      <td>5.105</td>\n",
       "    </tr>\n",
       "    <tr>\n",
       "      <th>1</th>\n",
       "      <td>2004</td>\n",
       "      <td>Golf Equipment</td>\n",
       "      <td>Golf Accessories</td>\n",
       "      <td>Course Pro Golf and Tee Set</td>\n",
       "      <td>Sales visit</td>\n",
       "      <td>United Kingdom</td>\n",
       "      <td>NaN</td>\n",
       "      <td>NaN</td>\n",
       "      <td>NaN</td>\n",
       "      <td>NaN</td>\n",
       "      <td>NaN</td>\n",
       "      <td>NaN</td>\n",
       "      <td>NaN</td>\n",
       "      <td>NaN</td>\n",
       "    </tr>\n",
       "    <tr>\n",
       "      <th>2</th>\n",
       "      <td>2005</td>\n",
       "      <td>Golf Equipment</td>\n",
       "      <td>Golf Accessories</td>\n",
       "      <td>Course Pro Golf and Tee Set</td>\n",
       "      <td>Sales visit</td>\n",
       "      <td>United States</td>\n",
       "      <td>10904.28</td>\n",
       "      <td>11363.52</td>\n",
       "      <td>2990.4</td>\n",
       "      <td>1068.0</td>\n",
       "      <td>2.8</td>\n",
       "      <td>10.64</td>\n",
       "      <td>7913.88</td>\n",
       "      <td>10.210</td>\n",
       "    </tr>\n",
       "    <tr>\n",
       "      <th>3</th>\n",
       "      <td>2005</td>\n",
       "      <td>Golf Equipment</td>\n",
       "      <td>Golf Accessories</td>\n",
       "      <td>Course Pro Golf and Tee Set</td>\n",
       "      <td>Sales visit</td>\n",
       "      <td>United Kingdom</td>\n",
       "      <td>27987.84</td>\n",
       "      <td>28855.68</td>\n",
       "      <td>7593.6</td>\n",
       "      <td>2712.0</td>\n",
       "      <td>2.8</td>\n",
       "      <td>10.64</td>\n",
       "      <td>20394.24</td>\n",
       "      <td>10.320</td>\n",
       "    </tr>\n",
       "    <tr>\n",
       "      <th>4</th>\n",
       "      <td>2006</td>\n",
       "      <td>Golf Equipment</td>\n",
       "      <td>Golf Accessories</td>\n",
       "      <td>Course Pro Golf and Tee Set</td>\n",
       "      <td>Sales visit</td>\n",
       "      <td>United States</td>\n",
       "      <td>NaN</td>\n",
       "      <td>NaN</td>\n",
       "      <td>NaN</td>\n",
       "      <td>NaN</td>\n",
       "      <td>NaN</td>\n",
       "      <td>NaN</td>\n",
       "      <td>NaN</td>\n",
       "      <td>NaN</td>\n",
       "    </tr>\n",
       "  </tbody>\n",
       "</table>\n",
       "</div>\n",
       "      <button class=\"colab-df-convert\" onclick=\"convertToInteractive('df-2790eeba-2eb2-4a5d-99fc-cfe5b83ed6de')\"\n",
       "              title=\"Convert this dataframe to an interactive table.\"\n",
       "              style=\"display:none;\">\n",
       "        \n",
       "  <svg xmlns=\"http://www.w3.org/2000/svg\" height=\"24px\"viewBox=\"0 0 24 24\"\n",
       "       width=\"24px\">\n",
       "    <path d=\"M0 0h24v24H0V0z\" fill=\"none\"/>\n",
       "    <path d=\"M18.56 5.44l.94 2.06.94-2.06 2.06-.94-2.06-.94-.94-2.06-.94 2.06-2.06.94zm-11 1L8.5 8.5l.94-2.06 2.06-.94-2.06-.94L8.5 2.5l-.94 2.06-2.06.94zm10 10l.94 2.06.94-2.06 2.06-.94-2.06-.94-.94-2.06-.94 2.06-2.06.94z\"/><path d=\"M17.41 7.96l-1.37-1.37c-.4-.4-.92-.59-1.43-.59-.52 0-1.04.2-1.43.59L10.3 9.45l-7.72 7.72c-.78.78-.78 2.05 0 2.83L4 21.41c.39.39.9.59 1.41.59.51 0 1.02-.2 1.41-.59l7.78-7.78 2.81-2.81c.8-.78.8-2.07 0-2.86zM5.41 20L4 18.59l7.72-7.72 1.47 1.35L5.41 20z\"/>\n",
       "  </svg>\n",
       "      </button>\n",
       "      \n",
       "  <style>\n",
       "    .colab-df-container {\n",
       "      display:flex;\n",
       "      flex-wrap:wrap;\n",
       "      gap: 12px;\n",
       "    }\n",
       "\n",
       "    .colab-df-convert {\n",
       "      background-color: #E8F0FE;\n",
       "      border: none;\n",
       "      border-radius: 50%;\n",
       "      cursor: pointer;\n",
       "      display: none;\n",
       "      fill: #1967D2;\n",
       "      height: 32px;\n",
       "      padding: 0 0 0 0;\n",
       "      width: 32px;\n",
       "    }\n",
       "\n",
       "    .colab-df-convert:hover {\n",
       "      background-color: #E2EBFA;\n",
       "      box-shadow: 0px 1px 2px rgba(60, 64, 67, 0.3), 0px 1px 3px 1px rgba(60, 64, 67, 0.15);\n",
       "      fill: #174EA6;\n",
       "    }\n",
       "\n",
       "    [theme=dark] .colab-df-convert {\n",
       "      background-color: #3B4455;\n",
       "      fill: #D2E3FC;\n",
       "    }\n",
       "\n",
       "    [theme=dark] .colab-df-convert:hover {\n",
       "      background-color: #434B5C;\n",
       "      box-shadow: 0px 1px 3px 1px rgba(0, 0, 0, 0.15);\n",
       "      filter: drop-shadow(0px 1px 2px rgba(0, 0, 0, 0.3));\n",
       "      fill: #FFFFFF;\n",
       "    }\n",
       "  </style>\n",
       "\n",
       "      <script>\n",
       "        const buttonEl =\n",
       "          document.querySelector('#df-2790eeba-2eb2-4a5d-99fc-cfe5b83ed6de button.colab-df-convert');\n",
       "        buttonEl.style.display =\n",
       "          google.colab.kernel.accessAllowed ? 'block' : 'none';\n",
       "\n",
       "        async function convertToInteractive(key) {\n",
       "          const element = document.querySelector('#df-2790eeba-2eb2-4a5d-99fc-cfe5b83ed6de');\n",
       "          const dataTable =\n",
       "            await google.colab.kernel.invokeFunction('convertToInteractive',\n",
       "                                                     [key], {});\n",
       "          if (!dataTable) return;\n",
       "\n",
       "          const docLinkHtml = 'Like what you see? Visit the ' +\n",
       "            '<a target=\"_blank\" href=https://colab.research.google.com/notebooks/data_table.ipynb>data table notebook</a>'\n",
       "            + ' to learn more about interactive tables.';\n",
       "          element.innerHTML = '';\n",
       "          dataTable['output_type'] = 'display_data';\n",
       "          await google.colab.output.renderOutput(dataTable, element);\n",
       "          const docLink = document.createElement('div');\n",
       "          docLink.innerHTML = docLinkHtml;\n",
       "          element.appendChild(docLink);\n",
       "        }\n",
       "      </script>\n",
       "    </div>\n",
       "  </div>\n",
       "  "
      ],
      "text/plain": [
       "   Year    Product line      Product type                      Product  \\\n",
       "0  2004  Golf Equipment  Golf Accessories  Course Pro Golf and Tee Set   \n",
       "1  2004  Golf Equipment  Golf Accessories  Course Pro Golf and Tee Set   \n",
       "2  2005  Golf Equipment  Golf Accessories  Course Pro Golf and Tee Set   \n",
       "3  2005  Golf Equipment  Golf Accessories  Course Pro Golf and Tee Set   \n",
       "4  2006  Golf Equipment  Golf Accessories  Course Pro Golf and Tee Set   \n",
       "\n",
       "  Order method type Retailer country   Revenue  Planned revenue  Product cost  \\\n",
       "0       Sales visit    United States   5819.70          6586.16        1733.2   \n",
       "1       Sales visit   United Kingdom       NaN              NaN           NaN   \n",
       "2       Sales visit    United States  10904.28         11363.52        2990.4   \n",
       "3       Sales visit   United Kingdom  27987.84         28855.68        7593.6   \n",
       "4       Sales visit    United States       NaN              NaN           NaN   \n",
       "\n",
       "   Quantity  Unit cost  Unit price  Gross profit  Unit sale price  \n",
       "0     619.0        2.8       10.64       4086.50            5.105  \n",
       "1       NaN        NaN         NaN           NaN              NaN  \n",
       "2    1068.0        2.8       10.64       7913.88           10.210  \n",
       "3    2712.0        2.8       10.64      20394.24           10.320  \n",
       "4       NaN        NaN         NaN           NaN              NaN  "
      ]
     },
     "execution_count": 4,
     "metadata": {},
     "output_type": "execute_result"
    }
   ],
   "source": [
    "data.head()"
   ]
  },
  {
   "cell_type": "code",
   "execution_count": 5,
   "metadata": {
    "colab": {
     "base_uri": "https://localhost:8080/",
     "height": 391
    },
    "executionInfo": {
     "elapsed": 212,
     "status": "ok",
     "timestamp": 1647999883196,
     "user": {
      "displayName": "Arturo TELLEZ CORTES",
      "photoUrl": "https://lh3.googleusercontent.com/a-/AOh14GjTZfNAxdNsV2LwG_Bi4n9vU_lqo5TyUXYzn8cdkA=s64",
      "userId": "09587210196324432870"
     },
     "user_tz": 360
    },
    "id": "LO1QiafVLbuF",
    "outputId": "055cfba5-e524-4ae8-a15b-c849b331deff"
   },
   "outputs": [
    {
     "data": {
      "text/html": [
       "\n",
       "  <div id=\"df-a6c6231c-eaf5-4663-bc3b-cbbe1d212bf4\">\n",
       "    <div class=\"colab-df-container\">\n",
       "      <div>\n",
       "<style scoped>\n",
       "    .dataframe tbody tr th:only-of-type {\n",
       "        vertical-align: middle;\n",
       "    }\n",
       "\n",
       "    .dataframe tbody tr th {\n",
       "        vertical-align: top;\n",
       "    }\n",
       "\n",
       "    .dataframe thead th {\n",
       "        text-align: right;\n",
       "    }\n",
       "</style>\n",
       "<table border=\"1\" class=\"dataframe\">\n",
       "  <thead>\n",
       "    <tr style=\"text-align: right;\">\n",
       "      <th></th>\n",
       "      <th>Year</th>\n",
       "      <th>Product line</th>\n",
       "      <th>Product type</th>\n",
       "      <th>Product</th>\n",
       "      <th>Order method type</th>\n",
       "      <th>Retailer country</th>\n",
       "      <th>Revenue</th>\n",
       "      <th>Planned revenue</th>\n",
       "      <th>Product cost</th>\n",
       "      <th>Quantity</th>\n",
       "      <th>Unit cost</th>\n",
       "      <th>Unit price</th>\n",
       "      <th>Gross profit</th>\n",
       "      <th>Unit sale price</th>\n",
       "    </tr>\n",
       "  </thead>\n",
       "  <tbody>\n",
       "    <tr>\n",
       "      <th>17818</th>\n",
       "      <td>2006</td>\n",
       "      <td>Camping Equipment</td>\n",
       "      <td>Sleeping Bags</td>\n",
       "      <td>Hibernator</td>\n",
       "      <td>Mail</td>\n",
       "      <td>United Kingdom</td>\n",
       "      <td>NaN</td>\n",
       "      <td>NaN</td>\n",
       "      <td>NaN</td>\n",
       "      <td>NaN</td>\n",
       "      <td>NaN</td>\n",
       "      <td>NaN</td>\n",
       "      <td>NaN</td>\n",
       "      <td>NaN</td>\n",
       "    </tr>\n",
       "    <tr>\n",
       "      <th>17819</th>\n",
       "      <td>2006</td>\n",
       "      <td>Camping Equipment</td>\n",
       "      <td>Sleeping Bags</td>\n",
       "      <td>Hibernator</td>\n",
       "      <td>E-mail</td>\n",
       "      <td>United States</td>\n",
       "      <td>NaN</td>\n",
       "      <td>NaN</td>\n",
       "      <td>NaN</td>\n",
       "      <td>NaN</td>\n",
       "      <td>NaN</td>\n",
       "      <td>NaN</td>\n",
       "      <td>NaN</td>\n",
       "      <td>NaN</td>\n",
       "    </tr>\n",
       "    <tr>\n",
       "      <th>17820</th>\n",
       "      <td>2006</td>\n",
       "      <td>Camping Equipment</td>\n",
       "      <td>Sleeping Bags</td>\n",
       "      <td>Hibernator</td>\n",
       "      <td>E-mail</td>\n",
       "      <td>United Kingdom</td>\n",
       "      <td>NaN</td>\n",
       "      <td>NaN</td>\n",
       "      <td>NaN</td>\n",
       "      <td>NaN</td>\n",
       "      <td>NaN</td>\n",
       "      <td>NaN</td>\n",
       "      <td>NaN</td>\n",
       "      <td>NaN</td>\n",
       "    </tr>\n",
       "    <tr>\n",
       "      <th>17821</th>\n",
       "      <td>2006</td>\n",
       "      <td>Camping Equipment</td>\n",
       "      <td>Sleeping Bags</td>\n",
       "      <td>Hibernator</td>\n",
       "      <td>Fax</td>\n",
       "      <td>United States</td>\n",
       "      <td>NaN</td>\n",
       "      <td>NaN</td>\n",
       "      <td>NaN</td>\n",
       "      <td>NaN</td>\n",
       "      <td>NaN</td>\n",
       "      <td>NaN</td>\n",
       "      <td>NaN</td>\n",
       "      <td>NaN</td>\n",
       "    </tr>\n",
       "    <tr>\n",
       "      <th>17822</th>\n",
       "      <td>2006</td>\n",
       "      <td>Camping Equipment</td>\n",
       "      <td>Sleeping Bags</td>\n",
       "      <td>Hibernator</td>\n",
       "      <td>Fax</td>\n",
       "      <td>United Kingdom</td>\n",
       "      <td>NaN</td>\n",
       "      <td>NaN</td>\n",
       "      <td>NaN</td>\n",
       "      <td>NaN</td>\n",
       "      <td>NaN</td>\n",
       "      <td>NaN</td>\n",
       "      <td>NaN</td>\n",
       "      <td>NaN</td>\n",
       "    </tr>\n",
       "  </tbody>\n",
       "</table>\n",
       "</div>\n",
       "      <button class=\"colab-df-convert\" onclick=\"convertToInteractive('df-a6c6231c-eaf5-4663-bc3b-cbbe1d212bf4')\"\n",
       "              title=\"Convert this dataframe to an interactive table.\"\n",
       "              style=\"display:none;\">\n",
       "        \n",
       "  <svg xmlns=\"http://www.w3.org/2000/svg\" height=\"24px\"viewBox=\"0 0 24 24\"\n",
       "       width=\"24px\">\n",
       "    <path d=\"M0 0h24v24H0V0z\" fill=\"none\"/>\n",
       "    <path d=\"M18.56 5.44l.94 2.06.94-2.06 2.06-.94-2.06-.94-.94-2.06-.94 2.06-2.06.94zm-11 1L8.5 8.5l.94-2.06 2.06-.94-2.06-.94L8.5 2.5l-.94 2.06-2.06.94zm10 10l.94 2.06.94-2.06 2.06-.94-2.06-.94-.94-2.06-.94 2.06-2.06.94z\"/><path d=\"M17.41 7.96l-1.37-1.37c-.4-.4-.92-.59-1.43-.59-.52 0-1.04.2-1.43.59L10.3 9.45l-7.72 7.72c-.78.78-.78 2.05 0 2.83L4 21.41c.39.39.9.59 1.41.59.51 0 1.02-.2 1.41-.59l7.78-7.78 2.81-2.81c.8-.78.8-2.07 0-2.86zM5.41 20L4 18.59l7.72-7.72 1.47 1.35L5.41 20z\"/>\n",
       "  </svg>\n",
       "      </button>\n",
       "      \n",
       "  <style>\n",
       "    .colab-df-container {\n",
       "      display:flex;\n",
       "      flex-wrap:wrap;\n",
       "      gap: 12px;\n",
       "    }\n",
       "\n",
       "    .colab-df-convert {\n",
       "      background-color: #E8F0FE;\n",
       "      border: none;\n",
       "      border-radius: 50%;\n",
       "      cursor: pointer;\n",
       "      display: none;\n",
       "      fill: #1967D2;\n",
       "      height: 32px;\n",
       "      padding: 0 0 0 0;\n",
       "      width: 32px;\n",
       "    }\n",
       "\n",
       "    .colab-df-convert:hover {\n",
       "      background-color: #E2EBFA;\n",
       "      box-shadow: 0px 1px 2px rgba(60, 64, 67, 0.3), 0px 1px 3px 1px rgba(60, 64, 67, 0.15);\n",
       "      fill: #174EA6;\n",
       "    }\n",
       "\n",
       "    [theme=dark] .colab-df-convert {\n",
       "      background-color: #3B4455;\n",
       "      fill: #D2E3FC;\n",
       "    }\n",
       "\n",
       "    [theme=dark] .colab-df-convert:hover {\n",
       "      background-color: #434B5C;\n",
       "      box-shadow: 0px 1px 3px 1px rgba(0, 0, 0, 0.15);\n",
       "      filter: drop-shadow(0px 1px 2px rgba(0, 0, 0, 0.3));\n",
       "      fill: #FFFFFF;\n",
       "    }\n",
       "  </style>\n",
       "\n",
       "      <script>\n",
       "        const buttonEl =\n",
       "          document.querySelector('#df-a6c6231c-eaf5-4663-bc3b-cbbe1d212bf4 button.colab-df-convert');\n",
       "        buttonEl.style.display =\n",
       "          google.colab.kernel.accessAllowed ? 'block' : 'none';\n",
       "\n",
       "        async function convertToInteractive(key) {\n",
       "          const element = document.querySelector('#df-a6c6231c-eaf5-4663-bc3b-cbbe1d212bf4');\n",
       "          const dataTable =\n",
       "            await google.colab.kernel.invokeFunction('convertToInteractive',\n",
       "                                                     [key], {});\n",
       "          if (!dataTable) return;\n",
       "\n",
       "          const docLinkHtml = 'Like what you see? Visit the ' +\n",
       "            '<a target=\"_blank\" href=https://colab.research.google.com/notebooks/data_table.ipynb>data table notebook</a>'\n",
       "            + ' to learn more about interactive tables.';\n",
       "          element.innerHTML = '';\n",
       "          dataTable['output_type'] = 'display_data';\n",
       "          await google.colab.output.renderOutput(dataTable, element);\n",
       "          const docLink = document.createElement('div');\n",
       "          docLink.innerHTML = docLinkHtml;\n",
       "          element.appendChild(docLink);\n",
       "        }\n",
       "      </script>\n",
       "    </div>\n",
       "  </div>\n",
       "  "
      ],
      "text/plain": [
       "       Year       Product line   Product type     Product Order method type  \\\n",
       "17818  2006  Camping Equipment  Sleeping Bags  Hibernator              Mail   \n",
       "17819  2006  Camping Equipment  Sleeping Bags  Hibernator            E-mail   \n",
       "17820  2006  Camping Equipment  Sleeping Bags  Hibernator            E-mail   \n",
       "17821  2006  Camping Equipment  Sleeping Bags  Hibernator               Fax   \n",
       "17822  2006  Camping Equipment  Sleeping Bags  Hibernator               Fax   \n",
       "\n",
       "      Retailer country  Revenue  Planned revenue  Product cost  Quantity  \\\n",
       "17818   United Kingdom      NaN              NaN           NaN       NaN   \n",
       "17819    United States      NaN              NaN           NaN       NaN   \n",
       "17820   United Kingdom      NaN              NaN           NaN       NaN   \n",
       "17821    United States      NaN              NaN           NaN       NaN   \n",
       "17822   United Kingdom      NaN              NaN           NaN       NaN   \n",
       "\n",
       "       Unit cost  Unit price  Gross profit  Unit sale price  \n",
       "17818        NaN         NaN           NaN              NaN  \n",
       "17819        NaN         NaN           NaN              NaN  \n",
       "17820        NaN         NaN           NaN              NaN  \n",
       "17821        NaN         NaN           NaN              NaN  \n",
       "17822        NaN         NaN           NaN              NaN  "
      ]
     },
     "execution_count": 5,
     "metadata": {},
     "output_type": "execute_result"
    }
   ],
   "source": [
    "data.tail()"
   ]
  },
  {
   "cell_type": "code",
   "execution_count": 6,
   "metadata": {
    "colab": {
     "base_uri": "https://localhost:8080/"
    },
    "executionInfo": {
     "elapsed": 212,
     "status": "ok",
     "timestamp": 1647999886675,
     "user": {
      "displayName": "Arturo TELLEZ CORTES",
      "photoUrl": "https://lh3.googleusercontent.com/a-/AOh14GjTZfNAxdNsV2LwG_Bi4n9vU_lqo5TyUXYzn8cdkA=s64",
      "userId": "09587210196324432870"
     },
     "user_tz": 360
    },
    "id": "8GpkHwN9LbuG",
    "outputId": "048d147f-6708-4e56-9aa3-92230570e0c2"
   },
   "outputs": [
    {
     "name": "stdout",
     "output_type": "stream",
     "text": [
      "<class 'pandas.core.frame.DataFrame'>\n",
      "RangeIndex: 17823 entries, 0 to 17822\n",
      "Data columns (total 14 columns):\n",
      " #   Column             Non-Null Count  Dtype  \n",
      "---  ------             --------------  -----  \n",
      " 0   Year               17823 non-null  int64  \n",
      " 1   Product line       17823 non-null  object \n",
      " 2   Product type       17823 non-null  object \n",
      " 3   Product            17823 non-null  object \n",
      " 4   Order method type  17823 non-null  object \n",
      " 5   Retailer country   17823 non-null  object \n",
      " 6   Revenue            6045 non-null   float64\n",
      " 7   Planned revenue    6045 non-null   float64\n",
      " 8   Product cost       6045 non-null   float64\n",
      " 9   Quantity           5860 non-null   float64\n",
      " 10  Unit cost          6045 non-null   float64\n",
      " 11  Unit price         6045 non-null   float64\n",
      " 12  Gross profit       6045 non-null   float64\n",
      " 13  Unit sale price    6045 non-null   float64\n",
      "dtypes: float64(8), int64(1), object(5)\n",
      "memory usage: 1.9+ MB\n"
     ]
    }
   ],
   "source": [
    "data.info()"
   ]
  },
  {
   "cell_type": "markdown",
   "metadata": {
    "id": "ug3bTxhwLbuH"
   },
   "source": [
    "## Instrucciones de Control: if/else"
   ]
  },
  {
   "cell_type": "code",
   "execution_count": 9,
   "metadata": {
    "colab": {
     "base_uri": "https://localhost:8080/"
    },
    "executionInfo": {
     "elapsed": 197,
     "status": "ok",
     "timestamp": 1647999941114,
     "user": {
      "displayName": "Arturo TELLEZ CORTES",
      "photoUrl": "https://lh3.googleusercontent.com/a-/AOh14GjTZfNAxdNsV2LwG_Bi4n9vU_lqo5TyUXYzn8cdkA=s64",
      "userId": "09587210196324432870"
     },
     "user_tz": 360
    },
    "id": "sYW4W-dOLbuJ",
    "outputId": "b67ea983-7cee-4474-a620-555901e0d695"
   },
   "outputs": [
    {
     "name": "stdout",
     "output_type": "stream",
     "text": [
      "¡Compra!\n"
     ]
    }
   ],
   "source": [
    "\"\"\"La instrucción de control if/else permite condicionalmente\n",
    "tomar una acción si se cumple una condición y tomar otra acción\n",
    "si no la cumple.\"\"\"\n",
    "\n",
    "precio = 5  # Ingresa el precio de la acción\n",
    "if precio < 15: \n",
    "    print('¡Compra!')\n",
    "else: \n",
    "    print('¡No compres!')"
   ]
  },
  {
   "cell_type": "markdown",
   "metadata": {
    "id": "pnjO7gK-LbuK"
   },
   "source": [
    "## Instrucciones de Control: if/elif... else (Múltiples Condiciones)"
   ]
  },
  {
   "cell_type": "code",
   "execution_count": 10,
   "metadata": {
    "colab": {
     "base_uri": "https://localhost:8080/"
    },
    "executionInfo": {
     "elapsed": 191,
     "status": "ok",
     "timestamp": 1648000026750,
     "user": {
      "displayName": "Arturo TELLEZ CORTES",
      "photoUrl": "https://lh3.googleusercontent.com/a-/AOh14GjTZfNAxdNsV2LwG_Bi4n9vU_lqo5TyUXYzn8cdkA=s64",
      "userId": "09587210196324432870"
     },
     "user_tz": 360
    },
    "id": "_Kj43q8eLbuL",
    "outputId": "78439898-746d-44ff-f397-0b4db297b180"
   },
   "outputs": [
    {
     "name": "stdout",
     "output_type": "stream",
     "text": [
      "Excelente\n"
     ]
    }
   ],
   "source": [
    "\"\"\" Podemos crear un lazo de control if con múltiples condiciones.\n",
    "Veamos un ejemplo: \n",
    "Supongamos que queremos crear un programa que asigne una calificación\n",
    "en base al número reportado por el buró de crédito...\n",
    "Si tiene más de 700 puntos será calificado como Excelente\n",
    "Si tiene entre 600 y 700 puntos será calificado como Bueno\n",
    "Si tiene entre 500 y 599 puntos será calificado como Cliente Riesgoso\n",
    "Si tiene menos de 499 puntos será calificado como No Satisfactorio.\"\"\"\n",
    "\n",
    "\n",
    "calificacion = 800 # Probar con distintos valores\n",
    "if calificacion > 700:\n",
    "    print('Excelente')\n",
    "elif calificacion >= 600:\n",
    "    print('Bueno')\n",
    "elif calificacion >= 500:\n",
    "    print('Cliente Riesgoso')\n",
    "else: \n",
    "    print('No Satisfactorio')"
   ]
  },
  {
   "cell_type": "markdown",
   "metadata": {
    "id": "qLAa-PN0LbuN"
   },
   "source": [
    "## Instrucciones de Control: while "
   ]
  },
  {
   "cell_type": "code",
   "execution_count": 13,
   "metadata": {
    "colab": {
     "base_uri": "https://localhost:8080/"
    },
    "executionInfo": {
     "elapsed": 193,
     "status": "ok",
     "timestamp": 1648002190521,
     "user": {
      "displayName": "Arturo TELLEZ CORTES",
      "photoUrl": "https://lh3.googleusercontent.com/a-/AOh14GjTZfNAxdNsV2LwG_Bi4n9vU_lqo5TyUXYzn8cdkA=s64",
      "userId": "09587210196324432870"
     },
     "user_tz": 360
    },
    "id": "JcC4vCIDLbuN",
    "outputId": "656c1509-16e3-4e42-efd1-0050cf777378"
   },
   "outputs": [
    {
     "name": "stdout",
     "output_type": "stream",
     "text": [
      "Este es el ciclo número  1\n",
      "Este es el ciclo número  2\n",
      "Este es el ciclo número  3\n",
      "Este es el ciclo número  4\n",
      "Este es el ciclo número  5\n"
     ]
    }
   ],
   "source": [
    "\"\"\"La instrucción de control while permite condicionalmente\n",
    "ejecutar una serie de ciclos mientras se cumpla la condición.\"\"\"\n",
    "\n",
    "valor_de_ciclo = 1\n",
    "while valor_de_ciclo < 6:\n",
    "    print('Este es el ciclo número ', valor_de_ciclo)\n",
    "    #valor_de_ciclo = valor_de_ciclo + 1\n",
    "    valor_de_ciclo += 1\n"
   ]
  },
  {
   "cell_type": "markdown",
   "metadata": {
    "id": "O7iitow_LbuO"
   },
   "source": [
    "<font color = 'blue'>¡Cuidado con los loops infinitos! Es muy común para los programadores, al inicio, olvidar poner instrucciones para asegurar la salida del ciclo. Si este fuera el caso, puedes detener un programa con Ctrl + C.</font>"
   ]
  },
  {
   "cell_type": "markdown",
   "metadata": {
    "id": "dJ02oLOsLbuO"
   },
   "source": [
    "## Instrucciones de Control: for"
   ]
  },
  {
   "cell_type": "code",
   "execution_count": 2,
   "metadata": {
    "colab": {
     "base_uri": "https://localhost:8080/"
    },
    "executionInfo": {
     "elapsed": 211,
     "status": "ok",
     "timestamp": 1648002451625,
     "user": {
      "displayName": "Arturo TELLEZ CORTES",
      "photoUrl": "https://lh3.googleusercontent.com/a-/AOh14GjTZfNAxdNsV2LwG_Bi4n9vU_lqo5TyUXYzn8cdkA=s64",
      "userId": "09587210196324432870"
     },
     "user_tz": 360
    },
    "id": "E9c2JFlcLbuP",
    "outputId": "ab6bdccc-cd8a-4b16-ba75-2ee3d03ce82e"
   },
   "outputs": [
    {
     "name": "stdout",
     "output_type": "stream",
     "text": [
      "Este es el ciclo número 1\n",
      "Este es el ciclo número 2\n",
      "Este es el ciclo número 3\n",
      "Este es el ciclo número 4\n",
      "Este es el ciclo número 5\n"
     ]
    }
   ],
   "source": [
    "\"\"\"La instrucción de control for permite ejecutar una \n",
    "serie de ciclos un número de veces predeterminado.\"\"\"\n",
    "\n",
    "for i in range(5):\n",
    "    print('Este es el ciclo número ' + str(i + 1))"
   ]
  },
  {
   "cell_type": "code",
   "execution_count": 4,
   "metadata": {
    "colab": {
     "base_uri": "https://localhost:8080/"
    },
    "executionInfo": {
     "elapsed": 193,
     "status": "ok",
     "timestamp": 1648002533761,
     "user": {
      "displayName": "Arturo TELLEZ CORTES",
      "photoUrl": "https://lh3.googleusercontent.com/a-/AOh14GjTZfNAxdNsV2LwG_Bi4n9vU_lqo5TyUXYzn8cdkA=s64",
      "userId": "09587210196324432870"
     },
     "user_tz": 360
    },
    "id": "RzWi7m6GmYJy",
    "outputId": "bda1caae-c50f-4ac8-f798-ed1d1f91cc17"
   },
   "outputs": [
    {
     "name": "stdout",
     "output_type": "stream",
     "text": [
      "0\n",
      "1\n",
      "2\n",
      "3\n",
      "4\n",
      "5\n",
      "6\n",
      "7\n",
      "8\n",
      "9\n"
     ]
    }
   ],
   "source": [
    "#Objetos Generadores\n",
    "def g_test(n):\n",
    "    for i in range(n):\n",
    "        yield(i)\n",
    "\n",
    "for i in g_test(10):\n",
    "    print(i)"
   ]
  },
  {
   "cell_type": "code",
   "execution_count": null,
   "metadata": {
    "id": "MPnDHCqnmwcy"
   },
   "outputs": [],
   "source": []
  },
  {
   "cell_type": "code",
   "execution_count": null,
   "metadata": {},
   "outputs": [],
   "source": []
  }
 ],
 "metadata": {
  "colab": {
   "collapsed_sections": [],
   "name": "3 Data_Analytics_Control .ipynb",
   "provenance": []
  },
  "kernelspec": {
   "display_name": "Python 3 (ipykernel)",
   "language": "python",
   "name": "python3"
  },
  "language_info": {
   "codemirror_mode": {
    "name": "ipython",
    "version": 3
   },
   "file_extension": ".py",
   "mimetype": "text/x-python",
   "name": "python",
   "nbconvert_exporter": "python",
   "pygments_lexer": "ipython3",
   "version": "3.10.5"
  }
 },
 "nbformat": 4,
 "nbformat_minor": 1
}
