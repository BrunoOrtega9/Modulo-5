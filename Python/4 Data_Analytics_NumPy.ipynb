{
 "cells": [
  {
   "cell_type": "markdown",
   "metadata": {
    "id": "UAeektuXodc-"
   },
   "source": [
    "# Data Analytics"
   ]
  },
  {
   "cell_type": "markdown",
   "metadata": {
    "id": "vo-dXqk3oddF"
   },
   "source": [
    "## Numerical Python (NumPy) "
   ]
  },
  {
   "cell_type": "markdown",
   "metadata": {
    "id": "ElxFqwBQoddH"
   },
   "source": [
    "Una de las estructuras de datos más importantes es el <font color = 'blue'>array</font>. Los <font color = 'blue'>arrays</font> estructuran otros objetos <font color = 'red'>del mismo tipo</font> en filas y columnas. \n",
    "\n",
    "Un <font color = 'blue'>array</font> de una sola dimensión se conoce como un <font color = 'green'>vector</font>. Lo cual significa que solo contiene una sola columna o fila de elementos. Sin embargo, los <font color = 'blue'>arrays</font> pueden generalizarse para convertirse en matrices de i x j elementos (2 dimensiones). Y posteriormente más dimensiones i x j x n... etc. \n",
    "\n",
    "La librería NumPy tiene una clase especial de objeto conocido como <font color = 'blue'>ndarray</font>. "
   ]
  },
  {
   "cell_type": "code",
   "execution_count": 2,
   "metadata": {
    "executionInfo": {
     "elapsed": 176,
     "status": "ok",
     "timestamp": 1648003310839,
     "user": {
      "displayName": "Arturo TELLEZ CORTES",
      "photoUrl": "https://lh3.googleusercontent.com/a-/AOh14GjTZfNAxdNsV2LwG_Bi4n9vU_lqo5TyUXYzn8cdkA=s64",
      "userId": "09587210196324432870"
     },
     "user_tz": 360
    },
    "id": "aLalKztroddI"
   },
   "outputs": [],
   "source": [
    "import numpy as np   # Importando la librería numpy, con la abreviatura \"np\"\n"
   ]
  },
  {
   "cell_type": "code",
   "execution_count": 3,
   "metadata": {
    "executionInfo": {
     "elapsed": 2,
     "status": "ok",
     "timestamp": 1648003311015,
     "user": {
      "displayName": "Arturo TELLEZ CORTES",
      "photoUrl": "https://lh3.googleusercontent.com/a-/AOh14GjTZfNAxdNsV2LwG_Bi4n9vU_lqo5TyUXYzn8cdkA=s64",
      "userId": "09587210196324432870"
     },
     "user_tz": 360
    },
    "id": "yDQvlBupoddK"
   },
   "outputs": [],
   "source": [
    "a = [0.5, 0.75, 1.0, 1.5, 2.0]   # Creando un list"
   ]
  },
  {
   "cell_type": "code",
   "execution_count": 4,
   "metadata": {
    "colab": {
     "base_uri": "https://localhost:8080/"
    },
    "executionInfo": {
     "elapsed": 5,
     "status": "ok",
     "timestamp": 1648003311389,
     "user": {
      "displayName": "Arturo TELLEZ CORTES",
      "photoUrl": "https://lh3.googleusercontent.com/a-/AOh14GjTZfNAxdNsV2LwG_Bi4n9vU_lqo5TyUXYzn8cdkA=s64",
      "userId": "09587210196324432870"
     },
     "user_tz": 360
    },
    "id": "gmymUeMcoddK",
    "outputId": "b4af7a05-8e10-496c-e8d7-9e5489872eba"
   },
   "outputs": [
    {
     "data": {
      "text/plain": [
       "[0.5, 0.75, 1.0, 1.5, 2.0]"
      ]
     },
     "execution_count": 4,
     "metadata": {},
     "output_type": "execute_result"
    }
   ],
   "source": [
    "a                    # Un list de una sola dimensión"
   ]
  },
  {
   "cell_type": "code",
   "execution_count": 5,
   "metadata": {
    "executionInfo": {
     "elapsed": 2,
     "status": "ok",
     "timestamp": 1648003311836,
     "user": {
      "displayName": "Arturo TELLEZ CORTES",
      "photoUrl": "https://lh3.googleusercontent.com/a-/AOh14GjTZfNAxdNsV2LwG_Bi4n9vU_lqo5TyUXYzn8cdkA=s64",
      "userId": "09587210196324432870"
     },
     "user_tz": 360
    },
    "id": "qOEYvJS9oddL"
   },
   "outputs": [],
   "source": [
    "b = [a, a, a]        # Combinando una serie de objetos, se crea una matriz de números"
   ]
  },
  {
   "cell_type": "code",
   "execution_count": 6,
   "metadata": {
    "colab": {
     "base_uri": "https://localhost:8080/"
    },
    "executionInfo": {
     "elapsed": 4,
     "status": "ok",
     "timestamp": 1648003312488,
     "user": {
      "displayName": "Arturo TELLEZ CORTES",
      "photoUrl": "https://lh3.googleusercontent.com/a-/AOh14GjTZfNAxdNsV2LwG_Bi4n9vU_lqo5TyUXYzn8cdkA=s64",
      "userId": "09587210196324432870"
     },
     "user_tz": 360
    },
    "id": "i8s_5E-ZoddL",
    "outputId": "7855966e-51f5-4c5b-88ef-e0aec889e841"
   },
   "outputs": [
    {
     "data": {
      "text/plain": [
       "[[0.5, 0.75, 1.0, 1.5, 2.0],\n",
       " [0.5, 0.75, 1.0, 1.5, 2.0],\n",
       " [0.5, 0.75, 1.0, 1.5, 2.0]]"
      ]
     },
     "execution_count": 6,
     "metadata": {},
     "output_type": "execute_result"
    }
   ],
   "source": [
    "b              "
   ]
  },
  {
   "cell_type": "code",
   "execution_count": null,
   "metadata": {
    "id": "BWSBxvmXoddM",
    "outputId": "f9dd34ed-bf58-4b7e-db35-761550d3fb2d"
   },
   "outputs": [
    {
     "data": {
      "text/plain": [
       "0.5"
      ]
     },
     "execution_count": 16,
     "metadata": {},
     "output_type": "execute_result"
    }
   ],
   "source": [
    "b[1][0]             # Para accesar indizando una matriz, debo utilizar doble indizado"
   ]
  },
  {
   "cell_type": "code",
   "execution_count": 15,
   "metadata": {
    "colab": {
     "base_uri": "https://localhost:8080/"
    },
    "executionInfo": {
     "elapsed": 183,
     "status": "ok",
     "timestamp": 1648004134000,
     "user": {
      "displayName": "Arturo TELLEZ CORTES",
      "photoUrl": "https://lh3.googleusercontent.com/a-/AOh14GjTZfNAxdNsV2LwG_Bi4n9vU_lqo5TyUXYzn8cdkA=s64",
      "userId": "09587210196324432870"
     },
     "user_tz": 360
    },
    "id": "hY1dud8Spwa-",
    "outputId": "bd2b5f41-4aba-4f4f-d601-177fa59c4ca1"
   },
   "outputs": [
    {
     "data": {
      "text/plain": [
       "[[1, 0.75, 1.0, 1.5, 2.0], [1, 0.75, 1.0, 1.5, 2.0], [1, 0.75, 1.0, 1.5, 2.0]]"
      ]
     },
     "execution_count": 15,
     "metadata": {},
     "output_type": "execute_result"
    }
   ],
   "source": [
    "b[1][0]  = 1\n",
    "b"
   ]
  },
  {
   "cell_type": "code",
   "execution_count": 16,
   "metadata": {
    "executionInfo": {
     "elapsed": 2,
     "status": "ok",
     "timestamp": 1648004134512,
     "user": {
      "displayName": "Arturo TELLEZ CORTES",
      "photoUrl": "https://lh3.googleusercontent.com/a-/AOh14GjTZfNAxdNsV2LwG_Bi4n9vU_lqo5TyUXYzn8cdkA=s64",
      "userId": "09587210196324432870"
     },
     "user_tz": 360
    },
    "id": "zpM9b0p7oddN"
   },
   "outputs": [],
   "source": [
    "c = [5, 10, 15]      # Creo un list\n",
    "d = [3, 6, 9]        # Creo un segundo list\n",
    "e = [c, d]           # Creo un objeto de 2 dimensiones\n",
    "f = [e, e]           # Creo un objeto de 3 dimensiones"
   ]
  },
  {
   "cell_type": "code",
   "execution_count": 23,
   "metadata": {
    "colab": {
     "base_uri": "https://localhost:8080/"
    },
    "executionInfo": {
     "elapsed": 158,
     "status": "ok",
     "timestamp": 1648004456755,
     "user": {
      "displayName": "Arturo TELLEZ CORTES",
      "photoUrl": "https://lh3.googleusercontent.com/a-/AOh14GjTZfNAxdNsV2LwG_Bi4n9vU_lqo5TyUXYzn8cdkA=s64",
      "userId": "09587210196324432870"
     },
     "user_tz": 360
    },
    "id": "b3jyNwr9oddN",
    "outputId": "14e2f607-59ca-41f0-bbd1-c54b78638822"
   },
   "outputs": [
    {
     "data": {
      "text/plain": [
       "9"
      ]
     },
     "execution_count": 23,
     "metadata": {},
     "output_type": "execute_result"
    }
   ],
   "source": [
    "f[0][1][2]"
   ]
  },
  {
   "cell_type": "code",
   "execution_count": 18,
   "metadata": {
    "colab": {
     "base_uri": "https://localhost:8080/"
    },
    "executionInfo": {
     "elapsed": 178,
     "status": "ok",
     "timestamp": 1648004176997,
     "user": {
      "displayName": "Arturo TELLEZ CORTES",
      "photoUrl": "https://lh3.googleusercontent.com/a-/AOh14GjTZfNAxdNsV2LwG_Bi4n9vU_lqo5TyUXYzn8cdkA=s64",
      "userId": "09587210196324432870"
     },
     "user_tz": 360
    },
    "id": "oArUhUXgoddO",
    "outputId": "c2cc3c05-335f-4450-bec0-33a8d722c86b"
   },
   "outputs": [
    {
     "data": {
      "text/plain": [
       "[[[5, 10, 15], [3, 6, 9]], [[5, 10, 15], [3, 6, 9]]]"
      ]
     },
     "execution_count": 18,
     "metadata": {},
     "output_type": "execute_result"
    }
   ],
   "source": [
    "f[1][1][0]          # Triple indizado"
   ]
  },
  {
   "cell_type": "markdown",
   "metadata": {
    "id": "dIjXKW1-oddO"
   },
   "source": [
    "Existen diversas formas de crear <font color = 'blue'>arrays</font> a partir de lists. Pero las lists son para propósitos más generales. Los <font color = 'blue'>arrays</font> son más especializados, y NumPy nos presenta una clase especial de array que es bastante flexible y eficiente: <font color = 'blue'>numpy.darray class</font>."
   ]
  },
  {
   "cell_type": "code",
   "execution_count": 24,
   "metadata": {
    "colab": {
     "base_uri": "https://localhost:8080/"
    },
    "executionInfo": {
     "elapsed": 199,
     "status": "ok",
     "timestamp": 1648004573367,
     "user": {
      "displayName": "Arturo TELLEZ CORTES",
      "photoUrl": "https://lh3.googleusercontent.com/a-/AOh14GjTZfNAxdNsV2LwG_Bi4n9vU_lqo5TyUXYzn8cdkA=s64",
      "userId": "09587210196324432870"
     },
     "user_tz": 360
    },
    "id": "VOtImS1IoddP",
    "outputId": "ab27083d-906c-4846-f573-1d89693680b6"
   },
   "outputs": [
    {
     "data": {
      "text/plain": [
       "numpy.ndarray"
      ]
     },
     "execution_count": 24,
     "metadata": {},
     "output_type": "execute_result"
    }
   ],
   "source": [
    "g = np.array([0, 3, 6, 9, 12])  # np.array para crear un numpy.darray\n",
    "type(g)"
   ]
  },
  {
   "cell_type": "code",
   "execution_count": 26,
   "metadata": {
    "colab": {
     "base_uri": "https://localhost:8080/"
    },
    "executionInfo": {
     "elapsed": 185,
     "status": "ok",
     "timestamp": 1648004695984,
     "user": {
      "displayName": "Arturo TELLEZ CORTES",
      "photoUrl": "https://lh3.googleusercontent.com/a-/AOh14GjTZfNAxdNsV2LwG_Bi4n9vU_lqo5TyUXYzn8cdkA=s64",
      "userId": "09587210196324432870"
     },
     "user_tz": 360
    },
    "id": "5zqfrFY1oddP",
    "outputId": "9b1e8871-93ac-4b09-b7ef-0c5f881f948c"
   },
   "outputs": [
    {
     "data": {
      "text/plain": [
       "array([ 6,  9, 12])"
      ]
     },
     "execution_count": 26,
     "metadata": {},
     "output_type": "execute_result"
    }
   ],
   "source": [
    "g[2:]    # Slicing con numpy.darray"
   ]
  },
  {
   "cell_type": "code",
   "execution_count": 25,
   "metadata": {
    "colab": {
     "base_uri": "https://localhost:8080/"
    },
    "executionInfo": {
     "elapsed": 164,
     "status": "ok",
     "timestamp": 1648004693759,
     "user": {
      "displayName": "Arturo TELLEZ CORTES",
      "photoUrl": "https://lh3.googleusercontent.com/a-/AOh14GjTZfNAxdNsV2LwG_Bi4n9vU_lqo5TyUXYzn8cdkA=s64",
      "userId": "09587210196324432870"
     },
     "user_tz": 360
    },
    "id": "suDazHFnoddQ",
    "outputId": "56bcf38b-fe93-4fed-df7f-5901580a656b"
   },
   "outputs": [
    {
     "data": {
      "text/plain": [
       "array([0, 3, 6])"
      ]
     },
     "execution_count": 25,
     "metadata": {},
     "output_type": "execute_result"
    }
   ],
   "source": [
    "g[:3]    # Ejem 2 slicing"
   ]
  },
  {
   "cell_type": "code",
   "execution_count": 27,
   "metadata": {
    "colab": {
     "base_uri": "https://localhost:8080/"
    },
    "executionInfo": {
     "elapsed": 235,
     "status": "ok",
     "timestamp": 1648004735537,
     "user": {
      "displayName": "Arturo TELLEZ CORTES",
      "photoUrl": "https://lh3.googleusercontent.com/a-/AOh14GjTZfNAxdNsV2LwG_Bi4n9vU_lqo5TyUXYzn8cdkA=s64",
      "userId": "09587210196324432870"
     },
     "user_tz": 360
    },
    "id": "wk-HF_gXvH-Q",
    "outputId": "e0b9ab2a-cc43-4fc3-e1cf-26c11b092b8d"
   },
   "outputs": [
    {
     "data": {
      "text/plain": [
       "30"
      ]
     },
     "execution_count": 27,
     "metadata": {},
     "output_type": "execute_result"
    }
   ],
   "source": [
    "sum(g)"
   ]
  },
  {
   "cell_type": "code",
   "execution_count": null,
   "metadata": {
    "id": "5sykiDsgoddQ",
    "outputId": "ab8eab97-8d17-4b2b-d4a3-53ca00521ff1"
   },
   "outputs": [
    {
     "data": {
      "text/plain": [
       "30"
      ]
     },
     "execution_count": 24,
     "metadata": {},
     "output_type": "execute_result"
    }
   ],
   "source": [
    "g.sum()  # Este objeto contiene una gran multitud de métodos"
   ]
  },
  {
   "cell_type": "code",
   "execution_count": 28,
   "metadata": {
    "colab": {
     "base_uri": "https://localhost:8080/"
    },
    "executionInfo": {
     "elapsed": 163,
     "status": "ok",
     "timestamp": 1648004770318,
     "user": {
      "displayName": "Arturo TELLEZ CORTES",
      "photoUrl": "https://lh3.googleusercontent.com/a-/AOh14GjTZfNAxdNsV2LwG_Bi4n9vU_lqo5TyUXYzn8cdkA=s64",
      "userId": "09587210196324432870"
     },
     "user_tz": 360
    },
    "id": "4SSp29-UoddR",
    "outputId": "97526fef-67fe-4ea0-e673-2be2ac526096"
   },
   "outputs": [
    {
     "data": {
      "text/plain": [
       "4.242640687119285"
      ]
     },
     "execution_count": 28,
     "metadata": {},
     "output_type": "execute_result"
    }
   ],
   "source": [
    "g.std()  # Desviación estándar"
   ]
  },
  {
   "cell_type": "code",
   "execution_count": 29,
   "metadata": {
    "colab": {
     "base_uri": "https://localhost:8080/"
    },
    "executionInfo": {
     "elapsed": 152,
     "status": "ok",
     "timestamp": 1648004785963,
     "user": {
      "displayName": "Arturo TELLEZ CORTES",
      "photoUrl": "https://lh3.googleusercontent.com/a-/AOh14GjTZfNAxdNsV2LwG_Bi4n9vU_lqo5TyUXYzn8cdkA=s64",
      "userId": "09587210196324432870"
     },
     "user_tz": 360
    },
    "id": "5PQehiv4oddR",
    "outputId": "b7bc4fdc-b679-4d20-9ffe-2ae6dc61fd9a"
   },
   "outputs": [
    {
     "data": {
      "text/plain": [
       "array([ 0,  6, 12, 18, 24])"
      ]
     },
     "execution_count": 29,
     "metadata": {},
     "output_type": "execute_result"
    }
   ],
   "source": [
    "g * 2    # Multiplica el array por 2"
   ]
  },
  {
   "cell_type": "code",
   "execution_count": 31,
   "metadata": {
    "executionInfo": {
     "elapsed": 201,
     "status": "ok",
     "timestamp": 1648004886570,
     "user": {
      "displayName": "Arturo TELLEZ CORTES",
      "photoUrl": "https://lh3.googleusercontent.com/a-/AOh14GjTZfNAxdNsV2LwG_Bi4n9vU_lqo5TyUXYzn8cdkA=s64",
      "userId": "09587210196324432870"
     },
     "user_tz": 360
    },
    "id": "x51348rWoddR"
   },
   "outputs": [],
   "source": [
    "h = np.array([g, g*3])  # Los ndarray también pueden ser de múltiples dimensiones"
   ]
  },
  {
   "cell_type": "code",
   "execution_count": 30,
   "metadata": {
    "colab": {
     "base_uri": "https://localhost:8080/"
    },
    "executionInfo": {
     "elapsed": 3,
     "status": "ok",
     "timestamp": 1648004883170,
     "user": {
      "displayName": "Arturo TELLEZ CORTES",
      "photoUrl": "https://lh3.googleusercontent.com/a-/AOh14GjTZfNAxdNsV2LwG_Bi4n9vU_lqo5TyUXYzn8cdkA=s64",
      "userId": "09587210196324432870"
     },
     "user_tz": 360
    },
    "id": "8NHzYjwooddR",
    "outputId": "ea5563c1-aa86-4162-bc16-b3db6885b16e"
   },
   "outputs": [
    {
     "data": {
      "text/plain": [
       "array([ 0,  6, 12, 18, 24])"
      ]
     },
     "execution_count": 30,
     "metadata": {},
     "output_type": "execute_result"
    }
   ],
   "source": [
    "g + g"
   ]
  },
  {
   "cell_type": "markdown",
   "metadata": {
    "id": "RKcFiWEzoddS"
   },
   "source": [
    "**Ventajas de los NumPy arrays (especializados):** \n",
    "* Tiene dimensiones por defecto (ejes)\n",
    "* Son de tamaño inmutable\n",
    "* Permite solamente un tipo de objeto "
   ]
  }
 ],
 "metadata": {
  "colab": {
   "collapsed_sections": [],
   "name": "4 Data_Analytics_NumPy.ipynb",
   "provenance": []
  },
  "kernelspec": {
   "display_name": "Python 3 (ipykernel)",
   "language": "python",
   "name": "python3"
  },
  "language_info": {
   "codemirror_mode": {
    "name": "ipython",
    "version": 3
   },
   "file_extension": ".py",
   "mimetype": "text/x-python",
   "name": "python",
   "nbconvert_exporter": "python",
   "pygments_lexer": "ipython3",
   "version": "3.10.5"
  }
 },
 "nbformat": 4,
 "nbformat_minor": 1
}
