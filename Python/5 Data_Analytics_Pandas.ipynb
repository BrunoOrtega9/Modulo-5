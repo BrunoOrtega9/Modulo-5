{
 "cells": [
  {
   "cell_type": "markdown",
   "metadata": {
    "id": "nC2Rbj5q0wuP"
   },
   "source": [
    "# Data Analytics "
   ]
  },
  {
   "cell_type": "markdown",
   "metadata": {
    "id": "SSPuEiWA0wuV"
   },
   "source": [
    "## Panel Data Analysis (Pandas) "
   ]
  },
  {
   "cell_type": "markdown",
   "metadata": {
    "id": "MGfaTX280wuW"
   },
   "source": [
    "Pandas es una librería especializada para la extracción, manipulación y análisis de datos. Central para Pandas esta el objeto de clase <font color ='red'>DataFrame</font>. Esta estructura esta caracterizada por su organización en forma de columnas. \n",
    "\n",
    "<font color ='red'>DataFrame</font> provee un etiquetado sencillo de sus datos, haciendo manipulación con indizado sencillo, similar al trabajo de datos con Excel. "
   ]
  },
  {
   "cell_type": "code",
   "execution_count": 1,
   "metadata": {
    "executionInfo": {
     "elapsed": 402,
     "status": "ok",
     "timestamp": 1648006221052,
     "user": {
      "displayName": "Arturo TELLEZ CORTES",
      "photoUrl": "https://lh3.googleusercontent.com/a-/AOh14GjTZfNAxdNsV2LwG_Bi4n9vU_lqo5TyUXYzn8cdkA=s64",
      "userId": "09587210196324432870"
     },
     "user_tz": 360
    },
    "id": "ojIaMNPK0wuX"
   },
   "outputs": [],
   "source": [
    "import pandas as pd   # Importando Pandas"
   ]
  },
  {
   "cell_type": "code",
   "execution_count": 2,
   "metadata": {
    "colab": {
     "base_uri": "https://localhost:8080/",
     "height": 174
    },
    "executionInfo": {
     "elapsed": 167,
     "status": "ok",
     "timestamp": 1648006326528,
     "user": {
      "displayName": "Arturo TELLEZ CORTES",
      "photoUrl": "https://lh3.googleusercontent.com/a-/AOh14GjTZfNAxdNsV2LwG_Bi4n9vU_lqo5TyUXYzn8cdkA=s64",
      "userId": "09587210196324432870"
     },
     "user_tz": 360
    },
    "id": "e2ReIpky0wuY",
    "outputId": "1406d217-2253-4b38-f1ab-4e0d5fcc660c"
   },
   "outputs": [
    {
     "data": {
      "text/html": [
       "<div>\n",
       "<style scoped>\n",
       "    .dataframe tbody tr th:only-of-type {\n",
       "        vertical-align: middle;\n",
       "    }\n",
       "\n",
       "    .dataframe tbody tr th {\n",
       "        vertical-align: top;\n",
       "    }\n",
       "\n",
       "    .dataframe thead th {\n",
       "        text-align: right;\n",
       "    }\n",
       "</style>\n",
       "<table border=\"1\" class=\"dataframe\">\n",
       "  <thead>\n",
       "    <tr style=\"text-align: right;\">\n",
       "      <th></th>\n",
       "      <th>number</th>\n",
       "    </tr>\n",
       "  </thead>\n",
       "  <tbody>\n",
       "    <tr>\n",
       "      <th>a</th>\n",
       "      <td>10</td>\n",
       "    </tr>\n",
       "    <tr>\n",
       "      <th>b</th>\n",
       "      <td>20</td>\n",
       "    </tr>\n",
       "    <tr>\n",
       "      <th>c</th>\n",
       "      <td>30</td>\n",
       "    </tr>\n",
       "    <tr>\n",
       "      <th>d</th>\n",
       "      <td>40</td>\n",
       "    </tr>\n",
       "  </tbody>\n",
       "</table>\n",
       "</div>"
      ],
      "text/plain": [
       "   number\n",
       "a      10\n",
       "b      20\n",
       "c      30\n",
       "d      40"
      ]
     },
     "execution_count": 2,
     "metadata": {},
     "output_type": "execute_result"
    }
   ],
   "source": [
    "df = pd.DataFrame([10,20,30,40], columns = ['number'], index = ['a', 'b', 'c', 'd']) # Creando un DataFrame con 1 columna (4x1) \n",
    "df    # Visualizando el DataFrame"
   ]
  },
  {
   "cell_type": "markdown",
   "metadata": {
    "id": "r3ZZLtYa0wuZ"
   },
   "source": [
    "Es importante notar que cualquier tipo de objeto puede formar parte de un <font color ='red'>DataFrame</font>. Es decir, podríamos ingresar Bool, str, listas, etc. \n",
    "\n",
    "La columna fue nombrada 'number'; se puede hacer referencia a esta columna fácilmente. Las observaciones, de igual forma, son indizadas como \"a\", \"b\", \"c\", \"d\". "
   ]
  },
  {
   "cell_type": "code",
   "execution_count": 4,
   "metadata": {
    "colab": {
     "base_uri": "https://localhost:8080/"
    },
    "executionInfo": {
     "elapsed": 190,
     "status": "ok",
     "timestamp": 1648006329757,
     "user": {
      "displayName": "Arturo TELLEZ CORTES",
      "photoUrl": "https://lh3.googleusercontent.com/a-/AOh14GjTZfNAxdNsV2LwG_Bi4n9vU_lqo5TyUXYzn8cdkA=s64",
      "userId": "09587210196324432870"
     },
     "user_tz": 360
    },
    "id": "pjQF398a0wua",
    "outputId": "3e71b54c-2b73-4eb8-a3bf-0277f6f06121"
   },
   "outputs": [
    {
     "data": {
      "text/plain": [
       "Index(['a', 'b', 'c', 'd'], dtype='object')"
      ]
     },
     "execution_count": 4,
     "metadata": {},
     "output_type": "execute_result"
    }
   ],
   "source": [
    "df.index  # Visualizando el indizado"
   ]
  },
  {
   "cell_type": "code",
   "execution_count": 5,
   "metadata": {
    "colab": {
     "base_uri": "https://localhost:8080/"
    },
    "executionInfo": {
     "elapsed": 177,
     "status": "ok",
     "timestamp": 1648006354936,
     "user": {
      "displayName": "Arturo TELLEZ CORTES",
      "photoUrl": "https://lh3.googleusercontent.com/a-/AOh14GjTZfNAxdNsV2LwG_Bi4n9vU_lqo5TyUXYzn8cdkA=s64",
      "userId": "09587210196324432870"
     },
     "user_tz": 360
    },
    "id": "XXKqnmoP0wub",
    "outputId": "04d8f758-37f1-4369-96db-4d7917d8d052"
   },
   "outputs": [
    {
     "data": {
      "text/plain": [
       "Index(['number'], dtype='object')"
      ]
     },
     "execution_count": 5,
     "metadata": {},
     "output_type": "execute_result"
    }
   ],
   "source": [
    "df.columns # Visualizando las columnas df.keys()"
   ]
  },
  {
   "cell_type": "code",
   "execution_count": 9,
   "metadata": {
    "colab": {
     "base_uri": "https://localhost:8080/"
    },
    "executionInfo": {
     "elapsed": 189,
     "status": "ok",
     "timestamp": 1648006410587,
     "user": {
      "displayName": "Arturo TELLEZ CORTES",
      "photoUrl": "https://lh3.googleusercontent.com/a-/AOh14GjTZfNAxdNsV2LwG_Bi4n9vU_lqo5TyUXYzn8cdkA=s64",
      "userId": "09587210196324432870"
     },
     "user_tz": 360
    },
    "id": "MoUK2XpS0wub",
    "outputId": "634922dc-97ae-44ca-9067-a4db82d459a1"
   },
   "outputs": [
    {
     "data": {
      "text/plain": [
       "25.0"
      ]
     },
     "execution_count": 9,
     "metadata": {},
     "output_type": "execute_result"
    }
   ],
   "source": [
    "df['number'].mean()  # Se pueden usar métodos sobre las columnas llamadas"
   ]
  },
  {
   "cell_type": "markdown",
   "metadata": {
    "id": "E_rkJlYj0wuc"
   },
   "source": [
    "La cantidad y versatilidad de métodos que se pueden utilizar sobre <font color ='red'>DataFrames</font> son una de las razones por la que son tan utilizados. Empezaremos a usarlos en las siguientes aplicaciones..."
   ]
  }
 ],
 "metadata": {
  "colab": {
   "name": "5 Data_Analytics_Pandas.ipynb",
   "provenance": []
  },
  "kernelspec": {
   "display_name": "Python 3 (ipykernel)",
   "language": "python",
   "name": "python3"
  },
  "language_info": {
   "codemirror_mode": {
    "name": "ipython",
    "version": 3
   },
   "file_extension": ".py",
   "mimetype": "text/x-python",
   "name": "python",
   "nbconvert_exporter": "python",
   "pygments_lexer": "ipython3",
   "version": "3.10.5"
  }
 },
 "nbformat": 4,
 "nbformat_minor": 1
}
