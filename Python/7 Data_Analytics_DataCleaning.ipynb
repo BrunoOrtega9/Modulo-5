{
 "cells": [
  {
   "cell_type": "markdown",
   "metadata": {},
   "source": [
    "# Data Analytics"
   ]
  },
  {
   "cell_type": "markdown",
   "metadata": {},
   "source": [
    "## Exploratory Data Analysis (EDA): Data Cleaning"
   ]
  },
  {
   "cell_type": "code",
   "execution_count": 1,
   "metadata": {},
   "outputs": [],
   "source": [
    "import pandas as pd\n",
    "import matplotlib as mpl  # Importando matplotlib \n",
    "import matplotlib.pyplot as plt  \n",
    "plt.style.use('seaborn') \n",
    "mpl.rcParams['font.family'] = 'serif'\n",
    "%matplotlib inline"
   ]
  },
  {
   "cell_type": "code",
   "execution_count": 7,
   "metadata": {},
   "outputs": [],
   "source": [
    "startup_data = pd.read_csv(r'investments_VC.csv')"
   ]
  },
  {
   "cell_type": "code",
   "execution_count": 8,
   "metadata": {},
   "outputs": [
    {
     "data": {
      "text/html": [
       "<div>\n",
       "<style scoped>\n",
       "    .dataframe tbody tr th:only-of-type {\n",
       "        vertical-align: middle;\n",
       "    }\n",
       "\n",
       "    .dataframe tbody tr th {\n",
       "        vertical-align: top;\n",
       "    }\n",
       "\n",
       "    .dataframe thead th {\n",
       "        text-align: right;\n",
       "    }\n",
       "</style>\n",
       "<table border=\"1\" class=\"dataframe\">\n",
       "  <thead>\n",
       "    <tr style=\"text-align: right;\">\n",
       "      <th></th>\n",
       "      <th>permalink</th>\n",
       "      <th>name</th>\n",
       "      <th>homepage_url</th>\n",
       "      <th>category_list</th>\n",
       "      <th>market</th>\n",
       "      <th>funding_total_usd</th>\n",
       "      <th>status</th>\n",
       "      <th>country_code</th>\n",
       "      <th>state_code</th>\n",
       "      <th>region</th>\n",
       "      <th>...</th>\n",
       "      <th>secondary_market</th>\n",
       "      <th>product_crowdfunding</th>\n",
       "      <th>round_A</th>\n",
       "      <th>round_B</th>\n",
       "      <th>round_C</th>\n",
       "      <th>round_D</th>\n",
       "      <th>round_E</th>\n",
       "      <th>round_F</th>\n",
       "      <th>round_G</th>\n",
       "      <th>round_H</th>\n",
       "    </tr>\n",
       "  </thead>\n",
       "  <tbody>\n",
       "    <tr>\n",
       "      <th>0</th>\n",
       "      <td>/organization/waywire</td>\n",
       "      <td>#waywire</td>\n",
       "      <td>http://www.waywire.com</td>\n",
       "      <td>|Entertainment|Politics|Social Media|News|</td>\n",
       "      <td>News</td>\n",
       "      <td>17,50,000</td>\n",
       "      <td>acquired</td>\n",
       "      <td>USA</td>\n",
       "      <td>NY</td>\n",
       "      <td>New York City</td>\n",
       "      <td>...</td>\n",
       "      <td>0</td>\n",
       "      <td>0</td>\n",
       "      <td>0</td>\n",
       "      <td>0</td>\n",
       "      <td>0</td>\n",
       "      <td>0</td>\n",
       "      <td>0</td>\n",
       "      <td>0</td>\n",
       "      <td>0</td>\n",
       "      <td>0</td>\n",
       "    </tr>\n",
       "    <tr>\n",
       "      <th>1</th>\n",
       "      <td>/organization/tv-communications</td>\n",
       "      <td>&amp;TV Communications</td>\n",
       "      <td>http://enjoyandtv.com</td>\n",
       "      <td>|Games|</td>\n",
       "      <td>Games</td>\n",
       "      <td>40,00,000</td>\n",
       "      <td>operating</td>\n",
       "      <td>USA</td>\n",
       "      <td>CA</td>\n",
       "      <td>Los Angeles</td>\n",
       "      <td>...</td>\n",
       "      <td>0</td>\n",
       "      <td>0</td>\n",
       "      <td>0</td>\n",
       "      <td>0</td>\n",
       "      <td>0</td>\n",
       "      <td>0</td>\n",
       "      <td>0</td>\n",
       "      <td>0</td>\n",
       "      <td>0</td>\n",
       "      <td>0</td>\n",
       "    </tr>\n",
       "    <tr>\n",
       "      <th>2</th>\n",
       "      <td>/organization/rock-your-paper</td>\n",
       "      <td>'Rock' Your Paper</td>\n",
       "      <td>http://www.rockyourpaper.org</td>\n",
       "      <td>|Publishing|Education|</td>\n",
       "      <td>Publishing</td>\n",
       "      <td>40.000</td>\n",
       "      <td>operating</td>\n",
       "      <td>EST</td>\n",
       "      <td>NaN</td>\n",
       "      <td>Tallinn</td>\n",
       "      <td>...</td>\n",
       "      <td>0</td>\n",
       "      <td>0</td>\n",
       "      <td>0</td>\n",
       "      <td>0</td>\n",
       "      <td>0</td>\n",
       "      <td>0</td>\n",
       "      <td>0</td>\n",
       "      <td>0</td>\n",
       "      <td>0</td>\n",
       "      <td>0</td>\n",
       "    </tr>\n",
       "    <tr>\n",
       "      <th>3</th>\n",
       "      <td>/organization/in-touch-network</td>\n",
       "      <td>(In)Touch Network</td>\n",
       "      <td>http://www.InTouchNetwork.com</td>\n",
       "      <td>|Electronics|Guides|Coffee|Restaurants|Music|i...</td>\n",
       "      <td>Electronics</td>\n",
       "      <td>15,00,000</td>\n",
       "      <td>operating</td>\n",
       "      <td>GBR</td>\n",
       "      <td>NaN</td>\n",
       "      <td>London</td>\n",
       "      <td>...</td>\n",
       "      <td>0</td>\n",
       "      <td>0</td>\n",
       "      <td>0</td>\n",
       "      <td>0</td>\n",
       "      <td>0</td>\n",
       "      <td>0</td>\n",
       "      <td>0</td>\n",
       "      <td>0</td>\n",
       "      <td>0</td>\n",
       "      <td>0</td>\n",
       "    </tr>\n",
       "    <tr>\n",
       "      <th>4</th>\n",
       "      <td>/organization/r-ranch-and-mine</td>\n",
       "      <td>-R- Ranch and Mine</td>\n",
       "      <td>NaN</td>\n",
       "      <td>|Tourism|Entertainment|Games|</td>\n",
       "      <td>Tourism</td>\n",
       "      <td>60.000</td>\n",
       "      <td>operating</td>\n",
       "      <td>USA</td>\n",
       "      <td>TX</td>\n",
       "      <td>Dallas</td>\n",
       "      <td>...</td>\n",
       "      <td>0</td>\n",
       "      <td>0</td>\n",
       "      <td>0</td>\n",
       "      <td>0</td>\n",
       "      <td>0</td>\n",
       "      <td>0</td>\n",
       "      <td>0</td>\n",
       "      <td>0</td>\n",
       "      <td>0</td>\n",
       "      <td>0</td>\n",
       "    </tr>\n",
       "  </tbody>\n",
       "</table>\n",
       "<p>5 rows × 39 columns</p>\n",
       "</div>"
      ],
      "text/plain": [
       "                         permalink                name  \\\n",
       "0            /organization/waywire            #waywire   \n",
       "1  /organization/tv-communications  &TV Communications   \n",
       "2    /organization/rock-your-paper   'Rock' Your Paper   \n",
       "3   /organization/in-touch-network   (In)Touch Network   \n",
       "4   /organization/r-ranch-and-mine  -R- Ranch and Mine   \n",
       "\n",
       "                    homepage_url  \\\n",
       "0         http://www.waywire.com   \n",
       "1          http://enjoyandtv.com   \n",
       "2   http://www.rockyourpaper.org   \n",
       "3  http://www.InTouchNetwork.com   \n",
       "4                            NaN   \n",
       "\n",
       "                                       category_list        market   \\\n",
       "0         |Entertainment|Politics|Social Media|News|          News    \n",
       "1                                            |Games|         Games    \n",
       "2                             |Publishing|Education|    Publishing    \n",
       "3  |Electronics|Guides|Coffee|Restaurants|Music|i...   Electronics    \n",
       "4                      |Tourism|Entertainment|Games|       Tourism    \n",
       "\n",
       "   funding_total_usd      status country_code state_code         region  ...  \\\n",
       "0          17,50,000    acquired          USA         NY  New York City  ...   \n",
       "1          40,00,000   operating          USA         CA    Los Angeles  ...   \n",
       "2              40.000  operating          EST        NaN        Tallinn  ...   \n",
       "3          15,00,000   operating          GBR        NaN         London  ...   \n",
       "4              60.000  operating          USA         TX         Dallas  ...   \n",
       "\n",
       "  secondary_market  product_crowdfunding round_A round_B round_C  round_D  \\\n",
       "0                0                     0       0       0       0        0   \n",
       "1                0                     0       0       0       0        0   \n",
       "2                0                     0       0       0       0        0   \n",
       "3                0                     0       0       0       0        0   \n",
       "4                0                     0       0       0       0        0   \n",
       "\n",
       "  round_E round_F  round_G  round_H  \n",
       "0       0       0        0        0  \n",
       "1       0       0        0        0  \n",
       "2       0       0        0        0  \n",
       "3       0       0        0        0  \n",
       "4       0       0        0        0  \n",
       "\n",
       "[5 rows x 39 columns]"
      ]
     },
     "execution_count": 8,
     "metadata": {},
     "output_type": "execute_result"
    }
   ],
   "source": [
    "startup_data.head()"
   ]
  },
  {
   "cell_type": "code",
   "execution_count": 9,
   "metadata": {},
   "outputs": [
    {
     "data": {
      "text/plain": [
       "(49438, 39)"
      ]
     },
     "execution_count": 9,
     "metadata": {},
     "output_type": "execute_result"
    }
   ],
   "source": [
    "startup_data.shape"
   ]
  },
  {
   "cell_type": "code",
   "execution_count": 10,
   "metadata": {},
   "outputs": [
    {
     "name": "stdout",
     "output_type": "stream",
     "text": [
      "<class 'pandas.core.frame.DataFrame'>\n",
      "RangeIndex: 49438 entries, 0 to 49437\n",
      "Data columns (total 39 columns):\n",
      " #   Column                Non-Null Count  Dtype  \n",
      "---  ------                --------------  -----  \n",
      " 0   permalink             49438 non-null  object \n",
      " 1   name                  49437 non-null  object \n",
      " 2   homepage_url          45989 non-null  object \n",
      " 3   category_list         45477 non-null  object \n",
      " 4    market               45470 non-null  object \n",
      " 5    funding_total_usd    49438 non-null  object \n",
      " 6   status                48124 non-null  object \n",
      " 7   country_code          44165 non-null  object \n",
      " 8   state_code            30161 non-null  object \n",
      " 9   region                44165 non-null  object \n",
      " 10  city                  43322 non-null  object \n",
      " 11  funding_rounds        49438 non-null  int64  \n",
      " 12  founded_at            38554 non-null  object \n",
      " 13  founded_month         38482 non-null  object \n",
      " 14  founded_quarter       38482 non-null  object \n",
      " 15  founded_year          38482 non-null  float64\n",
      " 16  first_funding_at      49438 non-null  object \n",
      " 17  last_funding_at       49438 non-null  object \n",
      " 18  seed                  49438 non-null  int64  \n",
      " 19  venture               49438 non-null  int64  \n",
      " 20  equity_crowdfunding   49438 non-null  int64  \n",
      " 21  undisclosed           49438 non-null  int64  \n",
      " 22  convertible_note      49438 non-null  int64  \n",
      " 23  debt_financing        49438 non-null  int64  \n",
      " 24  angel                 49438 non-null  int64  \n",
      " 25  grant                 49438 non-null  int64  \n",
      " 26  private_equity        49438 non-null  int64  \n",
      " 27  post_ipo_equity       49438 non-null  int64  \n",
      " 28  post_ipo_debt         49438 non-null  int64  \n",
      " 29  secondary_market      49438 non-null  int64  \n",
      " 30  product_crowdfunding  49438 non-null  int64  \n",
      " 31  round_A               49438 non-null  int64  \n",
      " 32  round_B               49438 non-null  int64  \n",
      " 33  round_C               49438 non-null  int64  \n",
      " 34  round_D               49438 non-null  int64  \n",
      " 35  round_E               49438 non-null  int64  \n",
      " 36  round_F               49438 non-null  int64  \n",
      " 37  round_G               49438 non-null  int64  \n",
      " 38  round_H               49438 non-null  int64  \n",
      "dtypes: float64(1), int64(22), object(16)\n",
      "memory usage: 14.7+ MB\n"
     ]
    }
   ],
   "source": [
    "startup_data.info()"
   ]
  },
  {
   "cell_type": "code",
   "execution_count": 11,
   "metadata": {},
   "outputs": [
    {
     "data": {
      "text/plain": [
       "0        False\n",
       "1        False\n",
       "2        False\n",
       "3        False\n",
       "4         True\n",
       "         ...  \n",
       "49433    False\n",
       "49434    False\n",
       "49435    False\n",
       "49436    False\n",
       "49437    False\n",
       "Name: homepage_url, Length: 49438, dtype: bool"
      ]
     },
     "execution_count": 11,
     "metadata": {},
     "output_type": "execute_result"
    }
   ],
   "source": [
    "startup_data['homepage_url'].isnull() # ¿Observación = NA ? True/False"
   ]
  },
  {
   "cell_type": "code",
   "execution_count": 12,
   "metadata": {},
   "outputs": [
    {
     "data": {
      "text/plain": [
       "3449"
      ]
     },
     "execution_count": 12,
     "metadata": {},
     "output_type": "execute_result"
    }
   ],
   "source": [
    "startup_data['homepage_url'].isnull().sum() # Revisa número de NA en la variable"
   ]
  },
  {
   "cell_type": "code",
   "execution_count": 13,
   "metadata": {},
   "outputs": [
    {
     "data": {
      "text/plain": [
       "permalink                   0\n",
       "name                        1\n",
       "homepage_url             3449\n",
       "category_list            3961\n",
       " market                  3968\n",
       " funding_total_usd          0\n",
       "status                   1314\n",
       "country_code             5273\n",
       "state_code              19277\n",
       "region                   5273\n",
       "city                     6116\n",
       "funding_rounds              0\n",
       "founded_at              10884\n",
       "founded_month           10956\n",
       "founded_quarter         10956\n",
       "founded_year            10956\n",
       "first_funding_at            0\n",
       "last_funding_at             0\n",
       "seed                        0\n",
       "venture                     0\n",
       "equity_crowdfunding         0\n",
       "undisclosed                 0\n",
       "convertible_note            0\n",
       "debt_financing              0\n",
       "angel                       0\n",
       "grant                       0\n",
       "private_equity              0\n",
       "post_ipo_equity             0\n",
       "post_ipo_debt               0\n",
       "secondary_market            0\n",
       "product_crowdfunding        0\n",
       "round_A                     0\n",
       "round_B                     0\n",
       "round_C                     0\n",
       "round_D                     0\n",
       "round_E                     0\n",
       "round_F                     0\n",
       "round_G                     0\n",
       "round_H                     0\n",
       "dtype: int64"
      ]
     },
     "execution_count": 13,
     "metadata": {},
     "output_type": "execute_result"
    }
   ],
   "source": [
    "startup_data.isnull().sum()  # Revisa número de NA de todas las variables"
   ]
  },
  {
   "cell_type": "code",
   "execution_count": 14,
   "metadata": {},
   "outputs": [
    {
     "data": {
      "text/plain": [
       "(49438, 39)"
      ]
     },
     "execution_count": 14,
     "metadata": {},
     "output_type": "execute_result"
    }
   ],
   "source": [
    "startup_data.shape"
   ]
  },
  {
   "cell_type": "code",
   "execution_count": 15,
   "metadata": {},
   "outputs": [],
   "source": [
    "startup_data = startup_data.dropna()"
   ]
  },
  {
   "cell_type": "markdown",
   "metadata": {},
   "source": [
    "Borrar todos los renglones con datos nulos - es el mas común\n",
    "asumir que dato podria llevar \n",
    "trabajar con esos datos sin limpiarlos \n",
    "\n",
    "para quitarlo usamos .dropna () - borra renglones con valores nulos\n",
    "    si queremos que los borre solo si todo el renglon esta lleno de datos nulos no sirve\n",
    "    tambien puede quitar todas las a o letras, pero podria quitarnos datos que si queremos \n",
    "    \n",
    ".dropna (how = any - todos los valores nulos que aparecen), pero quito aquí muchos y solo dejo dos paises de los que teniamos "
   ]
  },
  {
   "cell_type": "code",
   "execution_count": 16,
   "metadata": {},
   "outputs": [
    {
     "data": {
      "text/plain": [
       "(21840, 39)"
      ]
     },
     "execution_count": 16,
     "metadata": {},
     "output_type": "execute_result"
    }
   ],
   "source": [
    "startup_data.shape  "
   ]
  },
  {
   "cell_type": "code",
   "execution_count": 2,
   "metadata": {},
   "outputs": [],
   "source": [
    "startup_data = pd.read_csv(r'investments_VC.csv')"
   ]
  },
  {
   "cell_type": "code",
   "execution_count": 3,
   "metadata": {},
   "outputs": [
    {
     "data": {
      "text/html": [
       "<div>\n",
       "<style scoped>\n",
       "    .dataframe tbody tr th:only-of-type {\n",
       "        vertical-align: middle;\n",
       "    }\n",
       "\n",
       "    .dataframe tbody tr th {\n",
       "        vertical-align: top;\n",
       "    }\n",
       "\n",
       "    .dataframe thead th {\n",
       "        text-align: right;\n",
       "    }\n",
       "</style>\n",
       "<table border=\"1\" class=\"dataframe\">\n",
       "  <thead>\n",
       "    <tr style=\"text-align: right;\">\n",
       "      <th></th>\n",
       "      <th>funding_rounds</th>\n",
       "      <th>founded_year</th>\n",
       "      <th>seed</th>\n",
       "      <th>venture</th>\n",
       "      <th>equity_crowdfunding</th>\n",
       "      <th>undisclosed</th>\n",
       "      <th>convertible_note</th>\n",
       "      <th>debt_financing</th>\n",
       "      <th>angel</th>\n",
       "      <th>grant</th>\n",
       "      <th>...</th>\n",
       "      <th>secondary_market</th>\n",
       "      <th>product_crowdfunding</th>\n",
       "      <th>round_A</th>\n",
       "      <th>round_B</th>\n",
       "      <th>round_C</th>\n",
       "      <th>round_D</th>\n",
       "      <th>round_E</th>\n",
       "      <th>round_F</th>\n",
       "      <th>round_G</th>\n",
       "      <th>round_H</th>\n",
       "    </tr>\n",
       "  </thead>\n",
       "  <tbody>\n",
       "    <tr>\n",
       "      <th>count</th>\n",
       "      <td>49438.000000</td>\n",
       "      <td>38482.000000</td>\n",
       "      <td>4.943800e+04</td>\n",
       "      <td>4.943800e+04</td>\n",
       "      <td>4.943800e+04</td>\n",
       "      <td>4.943800e+04</td>\n",
       "      <td>4.943800e+04</td>\n",
       "      <td>4.943800e+04</td>\n",
       "      <td>4.943800e+04</td>\n",
       "      <td>4.943800e+04</td>\n",
       "      <td>...</td>\n",
       "      <td>4.943800e+04</td>\n",
       "      <td>4.943800e+04</td>\n",
       "      <td>4.943800e+04</td>\n",
       "      <td>4.943800e+04</td>\n",
       "      <td>4.943800e+04</td>\n",
       "      <td>4.943800e+04</td>\n",
       "      <td>4.943800e+04</td>\n",
       "      <td>4.943800e+04</td>\n",
       "      <td>4.943800e+04</td>\n",
       "      <td>4.943800e+04</td>\n",
       "    </tr>\n",
       "    <tr>\n",
       "      <th>mean</th>\n",
       "      <td>1.696205</td>\n",
       "      <td>2007.359129</td>\n",
       "      <td>2.173215e+05</td>\n",
       "      <td>7.501051e+06</td>\n",
       "      <td>6.163322e+03</td>\n",
       "      <td>1.302213e+05</td>\n",
       "      <td>2.336410e+04</td>\n",
       "      <td>1.888157e+06</td>\n",
       "      <td>6.541898e+04</td>\n",
       "      <td>1.628453e+05</td>\n",
       "      <td>...</td>\n",
       "      <td>3.845592e+04</td>\n",
       "      <td>7.074227e+03</td>\n",
       "      <td>1.243955e+06</td>\n",
       "      <td>1.492891e+06</td>\n",
       "      <td>1.205356e+06</td>\n",
       "      <td>7.375261e+05</td>\n",
       "      <td>3.424682e+05</td>\n",
       "      <td>1.697692e+05</td>\n",
       "      <td>5.767067e+04</td>\n",
       "      <td>1.423197e+04</td>\n",
       "    </tr>\n",
       "    <tr>\n",
       "      <th>std</th>\n",
       "      <td>1.294213</td>\n",
       "      <td>7.579203</td>\n",
       "      <td>1.056985e+06</td>\n",
       "      <td>2.847112e+07</td>\n",
       "      <td>1.999048e+05</td>\n",
       "      <td>2.981404e+06</td>\n",
       "      <td>1.432046e+06</td>\n",
       "      <td>1.382046e+08</td>\n",
       "      <td>6.582908e+05</td>\n",
       "      <td>5.612088e+06</td>\n",
       "      <td>...</td>\n",
       "      <td>3.864461e+06</td>\n",
       "      <td>4.282166e+05</td>\n",
       "      <td>5.531974e+06</td>\n",
       "      <td>7.472704e+06</td>\n",
       "      <td>7.993592e+06</td>\n",
       "      <td>9.815218e+06</td>\n",
       "      <td>5.406915e+06</td>\n",
       "      <td>6.277905e+06</td>\n",
       "      <td>5.252312e+06</td>\n",
       "      <td>2.716865e+06</td>\n",
       "    </tr>\n",
       "    <tr>\n",
       "      <th>min</th>\n",
       "      <td>1.000000</td>\n",
       "      <td>1902.000000</td>\n",
       "      <td>0.000000e+00</td>\n",
       "      <td>0.000000e+00</td>\n",
       "      <td>0.000000e+00</td>\n",
       "      <td>0.000000e+00</td>\n",
       "      <td>0.000000e+00</td>\n",
       "      <td>0.000000e+00</td>\n",
       "      <td>0.000000e+00</td>\n",
       "      <td>0.000000e+00</td>\n",
       "      <td>...</td>\n",
       "      <td>0.000000e+00</td>\n",
       "      <td>0.000000e+00</td>\n",
       "      <td>0.000000e+00</td>\n",
       "      <td>0.000000e+00</td>\n",
       "      <td>0.000000e+00</td>\n",
       "      <td>0.000000e+00</td>\n",
       "      <td>0.000000e+00</td>\n",
       "      <td>0.000000e+00</td>\n",
       "      <td>0.000000e+00</td>\n",
       "      <td>0.000000e+00</td>\n",
       "    </tr>\n",
       "    <tr>\n",
       "      <th>25%</th>\n",
       "      <td>1.000000</td>\n",
       "      <td>2006.000000</td>\n",
       "      <td>0.000000e+00</td>\n",
       "      <td>0.000000e+00</td>\n",
       "      <td>0.000000e+00</td>\n",
       "      <td>0.000000e+00</td>\n",
       "      <td>0.000000e+00</td>\n",
       "      <td>0.000000e+00</td>\n",
       "      <td>0.000000e+00</td>\n",
       "      <td>0.000000e+00</td>\n",
       "      <td>...</td>\n",
       "      <td>0.000000e+00</td>\n",
       "      <td>0.000000e+00</td>\n",
       "      <td>0.000000e+00</td>\n",
       "      <td>0.000000e+00</td>\n",
       "      <td>0.000000e+00</td>\n",
       "      <td>0.000000e+00</td>\n",
       "      <td>0.000000e+00</td>\n",
       "      <td>0.000000e+00</td>\n",
       "      <td>0.000000e+00</td>\n",
       "      <td>0.000000e+00</td>\n",
       "    </tr>\n",
       "    <tr>\n",
       "      <th>50%</th>\n",
       "      <td>1.000000</td>\n",
       "      <td>2010.000000</td>\n",
       "      <td>0.000000e+00</td>\n",
       "      <td>0.000000e+00</td>\n",
       "      <td>0.000000e+00</td>\n",
       "      <td>0.000000e+00</td>\n",
       "      <td>0.000000e+00</td>\n",
       "      <td>0.000000e+00</td>\n",
       "      <td>0.000000e+00</td>\n",
       "      <td>0.000000e+00</td>\n",
       "      <td>...</td>\n",
       "      <td>0.000000e+00</td>\n",
       "      <td>0.000000e+00</td>\n",
       "      <td>0.000000e+00</td>\n",
       "      <td>0.000000e+00</td>\n",
       "      <td>0.000000e+00</td>\n",
       "      <td>0.000000e+00</td>\n",
       "      <td>0.000000e+00</td>\n",
       "      <td>0.000000e+00</td>\n",
       "      <td>0.000000e+00</td>\n",
       "      <td>0.000000e+00</td>\n",
       "    </tr>\n",
       "    <tr>\n",
       "      <th>75%</th>\n",
       "      <td>2.000000</td>\n",
       "      <td>2012.000000</td>\n",
       "      <td>2.500000e+04</td>\n",
       "      <td>5.000000e+06</td>\n",
       "      <td>0.000000e+00</td>\n",
       "      <td>0.000000e+00</td>\n",
       "      <td>0.000000e+00</td>\n",
       "      <td>0.000000e+00</td>\n",
       "      <td>0.000000e+00</td>\n",
       "      <td>0.000000e+00</td>\n",
       "      <td>...</td>\n",
       "      <td>0.000000e+00</td>\n",
       "      <td>0.000000e+00</td>\n",
       "      <td>0.000000e+00</td>\n",
       "      <td>0.000000e+00</td>\n",
       "      <td>0.000000e+00</td>\n",
       "      <td>0.000000e+00</td>\n",
       "      <td>0.000000e+00</td>\n",
       "      <td>0.000000e+00</td>\n",
       "      <td>0.000000e+00</td>\n",
       "      <td>0.000000e+00</td>\n",
       "    </tr>\n",
       "    <tr>\n",
       "      <th>max</th>\n",
       "      <td>18.000000</td>\n",
       "      <td>2014.000000</td>\n",
       "      <td>1.300000e+08</td>\n",
       "      <td>2.351000e+09</td>\n",
       "      <td>2.500000e+07</td>\n",
       "      <td>2.924328e+08</td>\n",
       "      <td>3.000000e+08</td>\n",
       "      <td>3.007950e+10</td>\n",
       "      <td>6.359026e+07</td>\n",
       "      <td>7.505000e+08</td>\n",
       "      <td>...</td>\n",
       "      <td>6.806116e+08</td>\n",
       "      <td>7.200000e+07</td>\n",
       "      <td>3.190000e+08</td>\n",
       "      <td>5.420000e+08</td>\n",
       "      <td>4.900000e+08</td>\n",
       "      <td>1.200000e+09</td>\n",
       "      <td>4.000000e+08</td>\n",
       "      <td>1.060000e+09</td>\n",
       "      <td>1.000000e+09</td>\n",
       "      <td>6.000000e+08</td>\n",
       "    </tr>\n",
       "  </tbody>\n",
       "</table>\n",
       "<p>8 rows × 23 columns</p>\n",
       "</div>"
      ],
      "text/plain": [
       "       funding_rounds  founded_year          seed       venture  \\\n",
       "count    49438.000000  38482.000000  4.943800e+04  4.943800e+04   \n",
       "mean         1.696205   2007.359129  2.173215e+05  7.501051e+06   \n",
       "std          1.294213      7.579203  1.056985e+06  2.847112e+07   \n",
       "min          1.000000   1902.000000  0.000000e+00  0.000000e+00   \n",
       "25%          1.000000   2006.000000  0.000000e+00  0.000000e+00   \n",
       "50%          1.000000   2010.000000  0.000000e+00  0.000000e+00   \n",
       "75%          2.000000   2012.000000  2.500000e+04  5.000000e+06   \n",
       "max         18.000000   2014.000000  1.300000e+08  2.351000e+09   \n",
       "\n",
       "       equity_crowdfunding   undisclosed  convertible_note  debt_financing  \\\n",
       "count         4.943800e+04  4.943800e+04      4.943800e+04    4.943800e+04   \n",
       "mean          6.163322e+03  1.302213e+05      2.336410e+04    1.888157e+06   \n",
       "std           1.999048e+05  2.981404e+06      1.432046e+06    1.382046e+08   \n",
       "min           0.000000e+00  0.000000e+00      0.000000e+00    0.000000e+00   \n",
       "25%           0.000000e+00  0.000000e+00      0.000000e+00    0.000000e+00   \n",
       "50%           0.000000e+00  0.000000e+00      0.000000e+00    0.000000e+00   \n",
       "75%           0.000000e+00  0.000000e+00      0.000000e+00    0.000000e+00   \n",
       "max           2.500000e+07  2.924328e+08      3.000000e+08    3.007950e+10   \n",
       "\n",
       "              angel         grant  ...  secondary_market  \\\n",
       "count  4.943800e+04  4.943800e+04  ...      4.943800e+04   \n",
       "mean   6.541898e+04  1.628453e+05  ...      3.845592e+04   \n",
       "std    6.582908e+05  5.612088e+06  ...      3.864461e+06   \n",
       "min    0.000000e+00  0.000000e+00  ...      0.000000e+00   \n",
       "25%    0.000000e+00  0.000000e+00  ...      0.000000e+00   \n",
       "50%    0.000000e+00  0.000000e+00  ...      0.000000e+00   \n",
       "75%    0.000000e+00  0.000000e+00  ...      0.000000e+00   \n",
       "max    6.359026e+07  7.505000e+08  ...      6.806116e+08   \n",
       "\n",
       "       product_crowdfunding       round_A       round_B       round_C  \\\n",
       "count          4.943800e+04  4.943800e+04  4.943800e+04  4.943800e+04   \n",
       "mean           7.074227e+03  1.243955e+06  1.492891e+06  1.205356e+06   \n",
       "std            4.282166e+05  5.531974e+06  7.472704e+06  7.993592e+06   \n",
       "min            0.000000e+00  0.000000e+00  0.000000e+00  0.000000e+00   \n",
       "25%            0.000000e+00  0.000000e+00  0.000000e+00  0.000000e+00   \n",
       "50%            0.000000e+00  0.000000e+00  0.000000e+00  0.000000e+00   \n",
       "75%            0.000000e+00  0.000000e+00  0.000000e+00  0.000000e+00   \n",
       "max            7.200000e+07  3.190000e+08  5.420000e+08  4.900000e+08   \n",
       "\n",
       "            round_D       round_E       round_F       round_G       round_H  \n",
       "count  4.943800e+04  4.943800e+04  4.943800e+04  4.943800e+04  4.943800e+04  \n",
       "mean   7.375261e+05  3.424682e+05  1.697692e+05  5.767067e+04  1.423197e+04  \n",
       "std    9.815218e+06  5.406915e+06  6.277905e+06  5.252312e+06  2.716865e+06  \n",
       "min    0.000000e+00  0.000000e+00  0.000000e+00  0.000000e+00  0.000000e+00  \n",
       "25%    0.000000e+00  0.000000e+00  0.000000e+00  0.000000e+00  0.000000e+00  \n",
       "50%    0.000000e+00  0.000000e+00  0.000000e+00  0.000000e+00  0.000000e+00  \n",
       "75%    0.000000e+00  0.000000e+00  0.000000e+00  0.000000e+00  0.000000e+00  \n",
       "max    1.200000e+09  4.000000e+08  1.060000e+09  1.000000e+09  6.000000e+08  \n",
       "\n",
       "[8 rows x 23 columns]"
      ]
     },
     "execution_count": 3,
     "metadata": {},
     "output_type": "execute_result"
    }
   ],
   "source": [
    "startup_data.describe()"
   ]
  },
  {
   "cell_type": "code",
   "execution_count": 27,
   "metadata": {},
   "outputs": [
    {
     "data": {
      "text/plain": [
       "Index(['permalink', 'name', 'homepage_url', 'category_list', ' market ',\n",
       "       ' funding_total_usd ', 'status', 'country_code', 'state_code', 'region',\n",
       "       'city', 'funding_rounds', 'founded_at', 'founded_month',\n",
       "       'founded_quarter', 'founded_year', 'first_funding_at',\n",
       "       'last_funding_at', 'seed', 'venture', 'equity_crowdfunding',\n",
       "       'undisclosed', 'convertible_note', 'debt_financing', 'angel', 'grant',\n",
       "       'private_equity', 'post_ipo_equity', 'post_ipo_debt',\n",
       "       'secondary_market', 'product_crowdfunding', 'round_A', 'round_B',\n",
       "       'round_C', 'round_D', 'round_E', 'round_F', 'round_G', 'round_H'],\n",
       "      dtype='object')"
      ]
     },
     "execution_count": 27,
     "metadata": {},
     "output_type": "execute_result"
    }
   ],
   "source": [
    "startup_data.keys()"
   ]
  },
  {
   "cell_type": "code",
   "execution_count": 28,
   "metadata": {},
   "outputs": [
    {
     "data": {
      "text/plain": [
       " Software                    4620\n",
       " Biotechnology               3688\n",
       " Mobile                      1983\n",
       " E-Commerce                  1805\n",
       " Curated Web                 1655\n",
       "                             ... \n",
       " Distributed Generation         1\n",
       " Writers                        1\n",
       " Realtors                       1\n",
       " Social Opinion Platform        1\n",
       " Musical Instruments            1\n",
       "Name:  market , Length: 753, dtype: int64"
      ]
     },
     "execution_count": 28,
     "metadata": {},
     "output_type": "execute_result"
    }
   ],
   "source": [
    "startup_data[' market '].value_counts()"
   ]
  },
  {
   "cell_type": "code",
   "execution_count": 29,
   "metadata": {},
   "outputs": [],
   "source": [
    "startup_data[' market '] = startup_data[' market '].fillna('Software')"
   ]
  },
  {
   "cell_type": "markdown",
   "metadata": {},
   "source": [
    "con fillna llenamos los valores nulos con una palabra o número "
   ]
  },
  {
   "cell_type": "code",
   "execution_count": 30,
   "metadata": {},
   "outputs": [
    {
     "data": {
      "text/plain": [
       "0"
      ]
     },
     "execution_count": 30,
     "metadata": {},
     "output_type": "execute_result"
    }
   ],
   "source": [
    "startup_data[' market '].isnull().sum()"
   ]
  },
  {
   "cell_type": "markdown",
   "metadata": {},
   "source": [
    "Si esto se tratara de valores numéricos; se puede también utilizar...\n",
    "* startup_data[].fillna(startup_data[].mean())\n",
    "* startup_data[].fillna(startup_data[].median())"
   ]
  },
  {
   "cell_type": "code",
   "execution_count": 31,
   "metadata": {},
   "outputs": [
    {
     "data": {
      "image/png": "[encoded data removed]",
      "text/plain": [
       "<Figure size 720x432 with 1 Axes>"
      ]
     },
     "metadata": {
      "needs_background": "light"
     },
     "output_type": "display_data"
    }
   ],
   "source": [
    "plt.figure(figsize=(10, 6))\n",
    "plt.hist(startup_data['equity_crowdfunding'], stacked=True, bins=40, alpha=0.5)  \n",
    "plt.xlabel('$')\n",
    "plt.ylabel('Frequency')\n",
    "plt.title('Histograma');"
   ]
  },
  {
   "cell_type": "code",
   "execution_count": null,
   "metadata": {},
   "outputs": [],
   "source": []
  }
 ],
 "metadata": {
  "kernelspec": {
   "display_name": "Python 3 (ipykernel)",
   "language": "python",
   "name": "python3"
  },
  "language_info": {
   "codemirror_mode": {
    "name": "ipython",
    "version": 3
   },
   "file_extension": ".py",
   "mimetype": "text/x-python",
   "name": "python",
   "nbconvert_exporter": "python",
   "pygments_lexer": "ipython3",
   "version": "3.10.5"
  }
 },
 "nbformat": 4,
 "nbformat_minor": 2
}
